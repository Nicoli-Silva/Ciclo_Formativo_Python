{
  "nbformat": 4,
  "nbformat_minor": 0,
  "metadata": {
    "colab": {
      "provenance": [],
      "include_colab_link": true
    },
    "kernelspec": {
      "name": "python3",
      "display_name": "Python 3"
    },
    "language_info": {
      "name": "python"
    }
  },
  "cells": [
    {
      "cell_type": "markdown",
      "metadata": {
        "id": "view-in-github",
        "colab_type": "text"
      },
      "source": [
        "<a href=\"https://colab.research.google.com/github/Nicoli-Silva/Ciclo_Formativo_Python/blob/main/Exerc%C3%ADcio_Final.ipynb\" target=\"_parent\"><img src=\"https://colab.research.google.com/assets/colab-badge.svg\" alt=\"Open In Colab\"/></a>"
      ]
    },
    {
      "cell_type": "markdown",
      "source": [
        "# Contagem de Medalhas\n",
        "\n",
        "Crie um programa que receba o número de medalhas de ouro, prata e bronze de um país nas Olimpíadas e calcule o total de medalhas.\n",
        "Quando escrever 'sair', o programa deverá encerrar e mostrar na tela o ranking de medalhas no formato:"
      ],
      "metadata": {
        "id": "RQN1e5FZY6SZ"
      }
    },
    {
      "cell_type": "code",
      "source": [
        "#Ranking de medalhas:\n",
        "#Brasil: 7 medalhas\n",
        "#França: 6 medalhas\n",
        "#Argentina: 3 medalhas"
      ],
      "metadata": {
        "id": "gCq_KLHzZSzb"
      },
      "execution_count": null,
      "outputs": []
    },
    {
      "cell_type": "code",
      "execution_count": null,
      "metadata": {
        "id": "AJJhjxiPTd5s"
      },
      "outputs": [],
      "source": [
        "# Resposta aqui"
      ]
    },
    {
      "cell_type": "code",
      "source": [
        "pais = input(\"Digite o nome do País (ou \\\"sair\\\" para encerrar): \")\n",
        "ouro = input(\"Digite o número de medalhas de ouro: \")\n",
        "prata = input(\"Digite o número de medalhas de prata: \")\n",
        "bronze = input(\"Digite o número de medalhas de bronze: \")"
      ],
      "metadata": {
        "id": "k04FOHHxx5fn",
        "outputId": "0cadfd9c-6fe5-4baa-e830-3021ab183f5a",
        "colab": {
          "base_uri": "https://localhost:8080/"
        }
      },
      "execution_count": 4,
      "outputs": [
        {
          "name": "stdout",
          "output_type": "stream",
          "text": [
            "Digite o nome do País (ou \"sair\" para encerrar): brasil\n",
            "Digite o número de medalhas de ouro: 5\n",
            "Digite o número de medalhas de prata: 1\n",
            "Digite o número de medalhas de bronze: 1\n"
          ]
        }
      ]
    },
    {
      "cell_type": "code",
      "source": [
        "\n",
        "medalhas = {}\n",
        "\n",
        "def calcular_total_medalhas(ouro, prata, bronze):\n",
        "    return ouro + prata + bronze\n",
        "\n",
        "while True:\n",
        "    1\n",
        "    pais = input(\"Digite o nome do país (ou 'sair' para encerrar): \").strip()\n",
        "    if pais.lower() == 'sair':\n",
        "        break\n",
        "\n",
        "\n",
        "    try:\n",
        "        ouro = int(input(f\"Digite o número de medalhas de ouro para {pais}: \"))\n",
        "        prata = int(input(f\"Digite o número de medalhas de prata para {pais}: \"))\n",
        "        bronze = int(input(f\"Digite o número de medalhas de bronze para {pais}: \"))\n",
        "    except ValueError:\n",
        "        print(\"Por favor, insira números válidos para as medalhas.\")\n",
        "        continue\n",
        "\n",
        "\n",
        "    total_medalhas = calcular_total_medalhas(ouro, prata, bronze)\n",
        "\n",
        "\n",
        "    medalhas[pais] = total_medalhas\n",
        "\n",
        "ranking = sorted(medalhas.items(), key=lambda x: x[1], reverse=True)\n",
        "\n",
        "print(\"\\nRanking de medalhas países:\")\n",
        "for pais, total in ranking:\n",
        "    print(f\"{pais} {total} medalhas\")\n"
      ],
      "metadata": {
        "id": "2M8_MKKe3VTr",
        "outputId": "58ae75c9-fe8f-4cfe-cf06-4f554dbea1db",
        "colab": {
          "base_uri": "https://localhost:8080/"
        }
      },
      "execution_count": 8,
      "outputs": [
        {
          "output_type": "stream",
          "name": "stdout",
          "text": [
            "Digite o nome do país (ou 'sair' para encerrar): Brasil\n",
            "Digite o número de medalhas de ouro para Brasil: 1\n",
            "Digite o número de medalhas de prata para Brasil: 1\n",
            "Digite o número de medalhas de bronze para Brasil: 1\n",
            "Digite o nome do país (ou 'sair' para encerrar): Argentina \n",
            "Digite o número de medalhas de ouro para Argentina: 2\n",
            "Digite o número de medalhas de prata para Argentina: 4\n",
            "Digite o número de medalhas de bronze para Argentina: 7\n",
            "Digite o nome do país (ou 'sair' para encerrar): Polonia\n",
            "Digite o número de medalhas de ouro para Polonia: 9\n",
            "Digite o número de medalhas de prata para Polonia: 9\n",
            "Digite o número de medalhas de bronze para Polonia: 9\n",
            "Digite o nome do país (ou 'sair' para encerrar): sair\n",
            "\n",
            "Ranking de medalhas países:\n",
            "Polonia 27 medalhas\n",
            "Argentina 13 medalhas\n",
            "Brasil 3 medalhas\n"
          ]
        }
      ]
    }
  ]
}
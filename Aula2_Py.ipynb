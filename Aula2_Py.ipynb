{
  "nbformat": 4,
  "nbformat_minor": 0,
  "metadata": {
    "colab": {
      "provenance": [],
      "authorship_tag": "ABX9TyMHM5p0Ct3Ga3/Y84qoam71",
      "include_colab_link": true
    },
    "kernelspec": {
      "name": "python3",
      "display_name": "Python 3"
    },
    "language_info": {
      "name": "python"
    }
  },
  "cells": [
    {
      "cell_type": "markdown",
      "metadata": {
        "id": "view-in-github",
        "colab_type": "text"
      },
      "source": [
        "<a href=\"https://colab.research.google.com/github/Nicoli-Silva/Ciclo_Formativo_Python/blob/main/Aula2_Py.ipynb\" target=\"_parent\"><img src=\"https://colab.research.google.com/assets/colab-badge.svg\" alt=\"Open In Colab\"/></a>"
      ]
    },
    {
      "cell_type": "markdown",
      "source": [
        "![axe.jpg](data:image/jpeg;base64,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)"
      ],
      "metadata": {
        "id": "Map_xJNNsmKO"
      }
    },
    {
      "cell_type": "markdown",
      "source": [
        "#Pacotes e Módulos\n",
        "\n",
        "Tente imaginar que você está construindo uma casa. A casa é o seu programa Python, e cada cômodo representa uma parte específica da sua função. Para organizar melhor essa casa, você pode dividir os cômodos em áreas: sala de estar, cozinha, quartos, etc. Essas áreas são como pacotes em Python.\n",
        "\n",
        "Pacotes são como pastas que agrupam módulos relacionados. Eles ajudam a organizar seu código em um projeto maior, tornando-o mais fácil de entender e manter.\n",
        "\n",
        "Módulos são os próprios cômodos. Cada cômodo (módulo) tem uma função específica: a cozinha é onde você prepara a comida (módulo de funções matemáticas), o quarto é onde você dorme (módulo para lidar com dados), e assim por diante."
      ],
      "metadata": {
        "id": "Uc2GijwWsXyf"
      }
    },
    {
      "cell_type": "code",
      "source": [],
      "metadata": {
        "id": "Ga5ifgwW6vAs"
      },
      "execution_count": null,
      "outputs": []
    },
    {
      "cell_type": "code",
      "source": [
        "#Importando pacote(Numpy)\n",
        "import numpy"
      ],
      "metadata": {
        "id": "WSjoYUsHwi_d"
      },
      "execution_count": 1,
      "outputs": []
    },
    {
      "cell_type": "code",
      "source": [
        "#Vamos verificar os métodos atribuídos pelo pacote\n",
        "dir(numpy) #mostra quais \"ferramentas\" estão disponíveis para um determinado objeto."
      ],
      "metadata": {
        "id": "xOs_cAcTtAdU"
      },
      "execution_count": null,
      "outputs": []
    },
    {
      "cell_type": "code",
      "source": [
        "import numpy as np"
      ],
      "metadata": {
        "id": "mk2yqbbHw-lD"
      },
      "execution_count": 3,
      "outputs": []
    },
    {
      "cell_type": "code",
      "source": [
        "np.sqrt(100) #sqrt calcula a raiz quadrada de cada elemento de um array NumPy"
      ],
      "metadata": {
        "colab": {
          "base_uri": "https://localhost:8080/"
        },
        "id": "2kdBkhTmxD4-",
        "outputId": "2274a422-93b6-4992-be4c-63d22abb163f"
      },
      "execution_count": 4,
      "outputs": [
        {
          "output_type": "execute_result",
          "data": {
            "text/plain": [
              "10.0"
            ]
          },
          "metadata": {},
          "execution_count": 4
        }
      ]
    },
    {
      "cell_type": "code",
      "source": [
        "#Imprimir todos os métodos do pacote Math\n",
        "print(dir(np.sqrt))"
      ],
      "metadata": {
        "colab": {
          "base_uri": "https://localhost:8080/"
        },
        "id": "t-PNAZS65_AQ",
        "outputId": "e81483cf-cd4c-4fe7-e7c6-a28edb3d124a"
      },
      "execution_count": 5,
      "outputs": [
        {
          "output_type": "stream",
          "name": "stdout",
          "text": [
            "['__call__', '__class__', '__delattr__', '__dir__', '__doc__', '__eq__', '__format__', '__ge__', '__getattribute__', '__gt__', '__hash__', '__init__', '__init_subclass__', '__le__', '__lt__', '__name__', '__ne__', '__new__', '__reduce__', '__reduce_ex__', '__repr__', '__setattr__', '__sizeof__', '__str__', '__subclasshook__', '_get_strided_loop', '_resolve_dtypes_and_context', 'accumulate', 'at', 'identity', 'nargs', 'nin', 'nout', 'ntypes', 'outer', 'reduce', 'reduceat', 'resolve_dtypes', 'signature', 'types']\n"
          ]
        }
      ]
    },
    {
      "cell_type": "code",
      "source": [
        "import matematica  #Dá erro pois não existe esse modulo chamado Matematica, precisa ser criado.\n",
        "\n",
        "print(matematica.soma(10, 20))\n",
        "print(matematica.subtracao(10, 20))\n",
        "print(matematica.multiplicacao(10, 20))\n",
        "\n",
        "#depois da criação do modulo é possivel executar o codigo"
      ],
      "metadata": {
        "colab": {
          "base_uri": "https://localhost:8080/"
        },
        "id": "QWbNI2yO6-zc",
        "outputId": "2599dfdb-7367-41a0-c1c6-d2181edc47c5"
      },
      "execution_count": 9,
      "outputs": [
        {
          "output_type": "stream",
          "name": "stdout",
          "text": [
            "30\n",
            "-10\n",
            "200\n"
          ]
        }
      ]
    },
    {
      "cell_type": "markdown",
      "source": [
        "**Como Criar uma Função:** Para criar uma função em Python, usamos a palavra-chave *def*, que significa \"definir\".\n",
        "**E o que seria esse tal de Def?**\n",
        "Vamos fazer um bolo. Em vez de misturar todos os ingredientes manualmente toda vez que quiser fazer um bolo, você pode seguir uma receita. A receita é como uma função em Python: um conjunto de instruções que você pode seguir sempre que precisar.\n",
        "\n",
        "**Como Funciona o with:**\n",
        "\n",
        "Quando você usa with, você está dizendo ao Python para garantir que um recurso seja corretamente adquirido e, em seguida, liberado, mesmo que ocorra um erro durante o uso desse recurso. O with simplifica o código e torna a liberação de recursos mais segura.\n",
        "\n",
        "with: Inicia um gerenciador de contexto para o arquivo. Isso garante que o arquivo será fechado corretamente após a operação, mesmo que ocorra um erro. open `('matematica.py', 'w')`: Abre o arquivo matematica.py no modo de escrita ('w').  Se o arquivo não existir, ele será criado. Se o arquivo já existir, seu conteúdo será substituído. as *f:* A variável `f` é um objeto de arquivo que você usará para manipular o conteúdo do arquivo. f.write(\"\"\"...\"\"\"): Escreve o conteúdo dentro das aspas triplas `(\"\"\"...\"\"\")` no arquivo. As aspas triplas permitem que você escreva strings multilinha em Python, facilitando a escrita de blocos de texto que contêm várias linhas.\n",
        "\n",
        "Vamos seguir um exemplo básico:"
      ],
      "metadata": {
        "id": "y30Qd8aa-VAP"
      }
    },
    {
      "cell_type": "code",
      "source": [
        "#Criando um módulo chamado matematica.py\n",
        "\n",
        "with open('matematica.py', 'w') as f:\n",
        "    f.write(\"\"\"\n",
        "def soma(a, b):\n",
        "    return a + b\n",
        "\n",
        "def subtracao(a, b):\n",
        "    return a - b\n",
        "\n",
        "def multiplicacao(a, b):\n",
        "    return a * b\n",
        "\n",
        "def divisao(a, b):\n",
        "    if b == 0:\n",
        "        return \"Não é possível dividir por zero!\"\n",
        "    return a / b\n",
        "    \"\"\")"
      ],
      "metadata": {
        "id": "3Hj4YQlD7eM0"
      },
      "execution_count": 8,
      "outputs": []
    },
    {
      "cell_type": "code",
      "source": [
        "import random"
      ],
      "metadata": {
        "id": "crlFFrMA7m1B"
      },
      "execution_count": 10,
      "outputs": []
    },
    {
      "cell_type": "markdown",
      "source": [
        "**Random**:é um gerador de números aleatórios\n",
        "**Sample**: é usado para obter uma amostra de tamanho especifico de uma sequência, sem repetição"
      ],
      "metadata": {
        "id": "JwqUblzMDDLh"
      }
    },
    {
      "cell_type": "code",
      "source": [
        "random.sample(range(568),10) #lendo o codigo: random é o 568 - sample é o 10: dentro de 0 a 568 escolha 10 numeros aleatorios"
      ],
      "metadata": {
        "colab": {
          "base_uri": "https://localhost:8080/"
        },
        "id": "fxMXf2VECvC3",
        "outputId": "696ce817-9959-4887-a33d-cd10776acee7"
      },
      "execution_count": 13,
      "outputs": [
        {
          "output_type": "execute_result",
          "data": {
            "text/plain": [
              "[543, 229, 142, 89, 165, 399, 496, 106, 427, 377]"
            ]
          },
          "metadata": {},
          "execution_count": 13
        }
      ]
    },
    {
      "cell_type": "code",
      "source": [
        "import statistics"
      ],
      "metadata": {
        "id": "6nQ9lkCHEcFx"
      },
      "execution_count": 12,
      "outputs": []
    },
    {
      "cell_type": "code",
      "source": [
        "dados = [7.9,78.6,17.9,66.7,7.2,6.6]\n"
      ],
      "metadata": {
        "id": "3TloHxN6FNsD"
      },
      "execution_count": 14,
      "outputs": []
    },
    {
      "cell_type": "code",
      "source": [
        "statistics.mean(dados) #Média"
      ],
      "metadata": {
        "colab": {
          "base_uri": "https://localhost:8080/"
        },
        "id": "8D7AQ24tFrrs",
        "outputId": "6209f017-187d-489c-98a2-697d92e171cf"
      },
      "execution_count": 15,
      "outputs": [
        {
          "output_type": "execute_result",
          "data": {
            "text/plain": [
              "30.816666666666666"
            ]
          },
          "metadata": {},
          "execution_count": 15
        }
      ]
    },
    {
      "cell_type": "code",
      "source": [
        "statistics.median(dados)"
      ],
      "metadata": {
        "colab": {
          "base_uri": "https://localhost:8080/"
        },
        "id": "yQAdoWV8F5OL",
        "outputId": "41fcc702-23ae-43ad-b66e-e5ab6f00ed21"
      },
      "execution_count": 16,
      "outputs": [
        {
          "output_type": "execute_result",
          "data": {
            "text/plain": [
              "12.899999999999999"
            ]
          },
          "metadata": {},
          "execution_count": 16
        }
      ]
    },
    {
      "cell_type": "markdown",
      "source": [
        "# Vamos começar Aqui"
      ],
      "metadata": {
        "id": "cC5ax6C9GjMh"
      }
    },
    {
      "cell_type": "code",
      "source": [
        "\n",
        "# Criando o arquivo meumodulo.py\n",
        "%%writefile meumodulo.py\n",
        "def saudacao(nome):\n",
        "    return f\"Olá, {nome}!\"\n",
        "\n",
        "pi = 3.14159\n",
        "\n",
        ""
      ],
      "metadata": {
        "colab": {
          "base_uri": "https://localhost:8080/"
        },
        "id": "0ERuV0svGohw",
        "outputId": "132254e4-af94-40d0-ba88-d29a49b30338"
      },
      "execution_count": 33,
      "outputs": [
        {
          "output_type": "stream",
          "name": "stdout",
          "text": [
            "Overwriting meumodulo.py\n"
          ]
        }
      ]
    },
    {
      "cell_type": "code",
      "source": [
        "\n",
        "import meumodulo\n",
        "\n",
        "print(meumodulo.saudacao(\"Nic\"))\n",
        "print(meumodulo.pi)"
      ],
      "metadata": {
        "colab": {
          "base_uri": "https://localhost:8080/",
          "height": 193
        },
        "id": "pYwnu8uAJ69G",
        "outputId": "ab26c3cf-6a88-4670-da3c-d9a44295b690"
      },
      "execution_count": 34,
      "outputs": [
        {
          "output_type": "stream",
          "name": "stdout",
          "text": [
            "Olá, Nic!\n"
          ]
        },
        {
          "output_type": "error",
          "ename": "AttributeError",
          "evalue": "module 'meumodulo' has no attribute 'pi'",
          "traceback": [
            "\u001b[0;31m---------------------------------------------------------------------------\u001b[0m",
            "\u001b[0;31mAttributeError\u001b[0m                            Traceback (most recent call last)",
            "\u001b[0;32m<ipython-input-34-20fbccea0f1b>\u001b[0m in \u001b[0;36m<cell line: 4>\u001b[0;34m()\u001b[0m\n\u001b[1;32m      2\u001b[0m \u001b[0;34m\u001b[0m\u001b[0m\n\u001b[1;32m      3\u001b[0m \u001b[0mprint\u001b[0m\u001b[0;34m(\u001b[0m\u001b[0mmeumodulo\u001b[0m\u001b[0;34m.\u001b[0m\u001b[0msaudacao\u001b[0m\u001b[0;34m(\u001b[0m\u001b[0;34m\"Nic\"\u001b[0m\u001b[0;34m)\u001b[0m\u001b[0;34m)\u001b[0m\u001b[0;34m\u001b[0m\u001b[0;34m\u001b[0m\u001b[0m\n\u001b[0;32m----> 4\u001b[0;31m \u001b[0mprint\u001b[0m\u001b[0;34m(\u001b[0m\u001b[0mmeumodulo\u001b[0m\u001b[0;34m.\u001b[0m\u001b[0mpi\u001b[0m\u001b[0;34m)\u001b[0m\u001b[0;34m\u001b[0m\u001b[0;34m\u001b[0m\u001b[0m\n\u001b[0m",
            "\u001b[0;31mAttributeError\u001b[0m: module 'meumodulo' has no attribute 'pi'"
          ]
        }
      ]
    },
    {
      "cell_type": "code",
      "source": [
        "del pi"
      ],
      "metadata": {
        "id": "4IFvlGgMKfxS"
      },
      "execution_count": 35,
      "outputs": []
    },
    {
      "cell_type": "code",
      "source": [
        "import meumodulo\n",
        "\n",
        "print(meumodulo.saudacao(\"Nic\"))\n"
      ],
      "metadata": {
        "colab": {
          "base_uri": "https://localhost:8080/"
        },
        "id": "ghaLWSt7Kijq",
        "outputId": "63e32b98-4c0d-4cee-93f1-18814dd6c440"
      },
      "execution_count": 37,
      "outputs": [
        {
          "output_type": "stream",
          "name": "stdout",
          "text": [
            "Olá, Nic!\n"
          ]
        }
      ]
    },
    {
      "cell_type": "markdown",
      "source": [
        "![papel de parede simba.jpg](data:image/jpeg;base64,/9j/4AAQSkZJRgABAQAAAQABAAD/2wCEAAYGBgYHBgcICAcKCwoLCg8ODAwODxYQERAREBYiFRkVFRkVIh4kHhweJB42KiYmKjY+NDI0PkxERExfWl98fKcBBgYGBgcGBwgIBwoLCgsKDw4MDA4PFhAREBEQFiIVGRUVGRUiHiQeHB4kHjYqJiYqNj40MjQ+TERETF9aX3x8p//CABEIAZ4C4AMBIgACEQEDEQH/xAAxAAEAAwEBAQEAAAAAAAAAAAAAAQIDBAUGBwEBAQEBAQAAAAAAAAAAAAAAAAECAwT/2gAMAwEAAhADEAAAAvlAbaU19HGqzearCqwqsKrCEisyISIiwrMiEiEiEiEiEiEiEohKoWRVYVWFVhVYVWVVYVWRVYVmRCYqtNKY1nF2d5tK1UiVM6Jna9LJlNkzE3IQraFrF4KrQsSgmlq5uY49AN9ctfRxDeQAAAAAACYAAAABJAAEiAAEiEwAAAAAAABFYtGbSJiahYudb0m7XysmlIJe0XuYiaVW2ds70QuFIpN6VrKzAaU1ozkOPQDfXPX0cIS3IkSEliRAAVEkELMTAkCAAAAJAQvtLz29DszfF09/fN+cn6eZflq/U1Pla/T4anzke3y6z50dOOpRMAAAACJRRbHOrUqz0mhnS0TZvbC956TWdZrlrhN2rFpuL5TlKdNQvFxlXTOb2orJmOXQDo1y19HAN5ABQQAAAAAiSAoACRC3TLh1+j6vPfleh335a59bxKiUJTUJRWuisM+qE8zg+gpqfI8v1/mdc+BHby7xRMUAABEWS1i45Y6GOmcb1uebStcdOmuMM6ZzpbW982c4vXO1qwa1oqYvWWBlAzQOjXLX0cA3kAAAAAAACEwoACRGk+vnWHs9G/DcXpSXRjoa6VvmhKiYIrNLJVJdSK0ilqU1J5/j/T46fGY/ReL2588WjWYCgAAItXNmtbGWfRM3zT0CuhrFKXpnWUaZ8+m1K62ZWtapw6udmiWOlRigdGuWvo4BvIAAAAAAAAAADSPbzq3taW8/StLc8TMdNldrTNQmJSIRWaE0zy1N2Czqty6RtFrLnNqk00GHl+zSz4vn+l8DvzwS1IAAAiRWy0Ya5aTUjWQAKYdVc759rInLSkROV2tKa53POPP2A6NctfRwDeQBJCRCRCRCYAAAAFo6pev6iu3n6q258qQ6dRqSzNZlmqIIrZODLRWVkAXzudWmbNvOFjS1LwiRj4P0nPqfD09PzvRyrEqgAAC1RSL543qid4AAEBW8tImudWx3yzbxSxgOPUDo2x29HARvMoEkEokAAiQhIhMACYsT9V4/1vLpMTXjqmE7ak6RWXSswQrYtasyqyTnw7MdTFLSspis3oXvnBpFZL3ymOiee5vXKI5/k/tfA658OLR15wAFgCYCts86vW0F4ppcxJSJiKxOU1rKbKxNsudfHHWo5bA32w078b0nPUXytnVq1G9qzvnKosx1WRcgIksJDSnoS/Rd8T5utcdcUne2VqcidWNM12tlulbETEWWItMZLwc2fZnURboM+btrLwyjebzWxfet8q5dFF58t41PjsPZ8jvyomLAISVEhEjO8551atrJCIorpCt62JrWW1ufTNtzdPPnVBy6gWvm3nWlVaXwlNqQS9sL6WWuzlrEWaDpgAAST9J879lz6dZHHeN8uircm/OkRDS1qXOq2fPi9XzHmc/L1+nr4f0B9HeI6eS0VhdLY6kyCUGPN352cd9osbYXl0msxnl04acPzH2XynXHJFq9OaJgAAAEmdyazXmIlFkZ60zrKl6Y6tIhJzJYHPQEpnUrFoIECaWrNX1w1uOhnpvjnaaatxqIkRKTq+y+Y+o4dZpbPNjbPRac+/PZAqbUF+Hr+ex08zXDs8/rwnprJ9D6XyP2Pfz5xOW+V9MOiL3raWswJyvCL0sRjtSst+e1nRBm5fN/T+F0ngU0p34wCEwAEiJABE0ik1jHTWucwrfGavWrOkTGaEoFtsdOmIz1ylgZ0ksWqqZrJvrhprjtlF9ZlLpmEhMWmvc9/wAX3OHWuOvPGuud1xx0y1JARKZ/JfTfMcPZj2cU46d+fFKen9l819D189Ii/Tlbb5f1c31CImmHk53T2fitM+j7e/h+7eDHSN8sSu5vpjrmx5Pr+dXylNM/RwCyEwEiEiKk1ZXKXWtqRGbPn1m1LLbOa5qYQAEoFrQ3m8UiwRnUoQTNRaJ3NqaYM6bcvQm0S7cYSFomX6L2PH9jz9s8Y8XHT2sPn6cO/s18e2Ne5t4Omp7keLFm/Gx59c+btrucbTPpfW+n+V+w6+Vj1Wc/k7fV+bNehE+Pc1+V9bxMem01Z6/R/SfJ/V78pLXLLLojUrtnrK8/0fOPk89M/V50SESSErYTEVyOfWtb3zZxtiITnpEwErWUi8S1mYIGKBpFqbzEEqVis3jUiE6LkzNFjPpW1nVLrxgQlM17vT5Xu+T1eRw/U/M46co8/cAAAABy9VNPW+l8rr9fj62d2dPH9Twc9PoPM+e45047bUm4GenqfY/H/Y9PLMTXXGQNK3leX6fi183W9PV5okCYoBnnGOlqUnnuuucy0iTVZXjOVqmyLm0UrU1RjYYoG1L03ikrTVrq75s5i7mao0pCS2iqdtObq68rpzsspPD1X0o6ce76z4r7HF8XxtsfL687dPNz27Mvo+vP5mn1HAniu7Ln05pik1rXRrOY57+o6fD+h9vk0iUxn8D9/wDnefRCJx3AHZZ7/uVv08VU/NH0jHdLSLX536H5PpjhraO/CErITAieaazUvw9Ctsy9ZqsrwkXTc5XiVtlbNYJ5bhaLIEoGkTfpjLSVjOaKDQZTrTbWJ5erli22O9dVubq68KpXMSlqfpvmfTxvltyej4vbTz/ofns693s5u30+aINYjPQvyE6a+P2fQ9U7enyeF4v2vz3Pt532Hxnp419K4urv5/A8b6Oue3zGP6N5cvxz2/Ym/kfuvI+i1yZ64Xlp4HpeDz6+h7ad4mFbnn+T9zwfRypW0dOUAAY7YzXLCeHptFlzWlomtK2i5ulcUWz1qkXvz1leZSuetJaDGwL6ZT1xvWltZyiYx0GiUdS5w0iUrnrC11yF+riV2uKLnuefMvffzUvX7/yscuv1/kePKel6Hz0519RPy8deX075ea9DPjnl19b2PkY1j66fktN57ac9+W+71fn3Xn7OXlQe5b5+T0vQ+emX3vK55s+gv83Nz7PNwRnX02vyuusfSU+bub8tG8zGk6zk0rFVhHN06r5N/QjHTgv0ynnvSpNcdt4uaRebMY3lc4255I0joXDHs5ZrnHLqBpFXTKYSgNM7WbznbXO8ZUl3jIus4SurMl5pNXUhNWNllVFrZ2NLYSmquVdGvNqypGTW8ZyXVskTaCohZWrxlJrOcWbRSxEWQtnVd4xvZppjoRGWUuunLpL2YQucpZ53dW1W05ax0U0xNtOGTpyyi3Zijoty2s1xGt9ededsUZ6QOegJIsFqiTogjmtak6kEZtkKIZTMCUKtCKlAmIRe2Vi0TSzWqDRjYlWFsoysqNFFazlFmkUS2nNGs4rN2A2Yi8VS778ltZtrza2KVia12562dE4QnVlWlaVpOdU0yvmxarS1YiAzQJRNgdBE4TKu5A5aAAm1Z6SYRqIOVTE1MWjci0CIvbLJaM2JQWhFTExASgAAJgAAAAAAAAAAASgk65aaUrMRetqE2oL1mKlElbVmJrLQmCE2iq9dyEwspvZk0pERMYoZoEjUtajpJqjFSQIJRNBFoRuTNpspXSksJtLWO+2ufnT6cp5b1FeU9STyp9Xrl8HX7Xsxv4K/31pPz+v6FRfgH3cHwtvut4/Pa/ocH55P6DJ8Db72Y+BffSfCvuOevjfP+r8frz8x6EazwR0VmsJ6RxaV68a5o1VXHv4pK65btZ6V21mldsLMhjqvVZdRZas2qlolbTWNZtREsDlqBigJhqSNkTHMkqCYDYBMTqXnO1l87kpXSuddfX5vpb4WS6c4SIAmEu3peQmvqOr5Lr5dPpY8rsxrpilpbTUaM4lvOdU2jm5bPRx8fi6Z9TzMI68kI1lEjHLpxzb57Vrm3z6c3jptnN7cXbyRjrW+OtbwubYXq1UZ0iYyTEl70t1wSsrS1ZqBNSmUzHLQEonUEEgRIhMSygkomplfpmbVtrMZ3ylaZbYrr5ra5+ipfrxCiYAESImJi2mJevXz0vqW8pL61fLHoZcizbOi5lCpgREwoDPWCsXiObqy2jn5uvhz0tSZzullitbRKXqYpmbpBz0BZVqWVEoRKJ0lCoHOgSNRBmyhZKBIoNAib5rL1iJbRDJpnNbzS2+XT1+d19OW43kABEiEiEwAAAAAgAAAkhIhIrLGXPj0x5d9LVuQmqVlaWaWoRS1G6pjnoJQAAAJgAAEmpAgJQJG4AgyCUAAC2mN95125765+jfl6e3CRYACgAAAAAgAAAAAAoV5LYc+sRM46TaJuYqiW0wsZznNzUm0HOgCSExQQAAABKFkwASgTAAAAEtSBmibIlBa+VtTq7PO6+vDrVt05AABQASgAiYEokAAAAFRzW5cbrC2OsJqSiITWyzRmqDO0GQSgShYEomyEwBKB//EAAL/2gAMAwEAAgADAAAAIQF/ffffTbTXbTTTTTTTnMsssssMMsohJglbfZ/iUxPQd+wAPvPPPPPPPNPPPPOPPIQTQBDCQQQQQQ+9cSKF3pMitGNUQAM8IcIQQERFIDPPPOBVi71vqO0ZgQAQQ5ykIygDQKtAIlQAAwQQAQQQQQSfPPI1gjuEuIIL7/F7CAQcsnOb1+Tx5bEgwAAwQQDCAQQQdPPJfh0NA6kgF+2SelUaAQfAjeLbIc3hMagAFxBPPPPDCAQQRcv168AIclBUxFEl2KCQQUcafPLBEwPLAAF/vOMsstPOABLnFW+YDmcAsuhJA35kmHLLLJefPOcEpgwAKhhADigIMNjr8AeUgorLe3P3VWd+T1eCQPLCXW4AraCwAANvpLW/iDSUMLeawAlKf2Lsxhzvks9P/ZScGADAzPxQ18QAM0Xc4ItfPPecALG62XuoTxqhaXr4oWVBFSZfODbnEFPuQABmfeVkgVQktW9fW5imhOlMH4ZGuoKx6EANPMIAE9CrA1wAJBvI4sK/ccWsd9yDj4rWV4HeMl1nzlnPjdQwRQpLvhr/AEAAOUU/OVZJ7W+I7rMo74b4HJ6knJrbqdsVZ/zpKcdC6lSUAA72P436l0g/NRAAAAAABINE7zULTVHsOW5TxS2PNuEaUUAAPY/ANdJoXrQaoOFa2RlJguYoJldBrCRr0VmY1xP28HLEACMG3wor3wq+oT9jV9+suWnI0o7m8/TmhnoJR6YhB3n+eMAD8yj9GennDDiKQ6OqGm1juSrgYXorEb5l/oFKMbX2wdFQABuOUOp4mr6BejOxqQogQBg/knUzfZTSkH15poPiTFrL2YAAfkweEU6+PPzh07UFqA99LZC4+401a2FweCwxDR7ovw2UAAha931312OWV8BDDC774774gAAABx1JW23YWt4f5/Yb9UAAfLSc/tP9lOhysX3+aUCqvc28sxLhyPOrOGK36/ekgzmkAC3xevl77lPrZpEAz6SJlHUSWeYm3g5Qu5mpNg9fvGPnxEAAkU9PQ99Vy2rFfzSxmsQ9O+I+x1TxC7cKHXoJ55B20/lwABF40UcxrEY/y8UAABDDTzzzz30wxjDG5YijM5ncAAABRoACf8hRLN0AABDqZm/8oAwwww00001020yvgdkF4oCrAAgAAA90BBKAADHrufuBPLPHX7728kEEEEUuCyMJAF+BY8DncAD/xAAC/9oADAMBAAIAAwAAABDw803zzwywxyxzywxjj+3PPPPPHHPOMUYvGePLXyB7e+Ovzz7rL777xRyTz75zD76McLPfvc0EEEEMY0BJ0Ohw7259NXzzPKPKMMJMZaI7777o4suEMqaUZo90GHLNVin82bVMuMHDzwM88488MsMMv7b6d3AUQKhNzNabpbUkGK0qTzl2FlMWKrzxf7//AH//AOyw9Pnp7L6TaluhdxBN+WkNQUZEid1dpIdA0V/PAv8A/wD/AP8A/wD/ADiww9hNh7UgKr8D3QNvO+JBf/W8j/3ztGjIfPPvvusvstv7/wBtavwHJmOHgMO0ys4PfAy3t82v7/8Aofmev88X+/zy+Giy27I5SFWcZApuViP5jaI3MZlA/nDrZkZ/XD888n4tJA3h3362WW3AvUf9JHOPfSZnEf4IcF0cQ+9UE/Frt883qSxh1/8Az70ztCNe5D9Le1o24LAyJpFIAFWTeXS/jMvHfPF0v+aiNPDnqZ2Rt09gCIeZr4vgyyZbpNKJbcbfvb+6f0fPJZftjYO2vw3ahMNcu+C/4g+KuQAnhWZ5wr888u84Mbr6/PKNRz/tyFGktVSo8xoY/wC0KevvCeW4lix5J/DVZMEFMVGTzyB+hQ5UcTQLtvr2r3332nekYSn7MlxtqW6QwzEGTZ0htDzzHe5LL0NxOKIgt1zJFkewwlj7+DqUP7Bb2bjuoKSeVApPzxCar7UVIk/vh9l7zFiNJBN1v3QlkbXJDI04maErSNAHxnzw5n13crV1ymMxifyOBDfC9JVG76nsN67DONgsEYEq4+UDzwWJC+FtY1rDdiAHeyIYSsqfHdDcsh7St2uuD2A4ThGzNnzydnDl+/ttFIGFxiG1YR5VbGo+N6qIE9AjQRZXDHBQvpsnzzSQunvONXm94Xyzz764TA47zzzzy48ZsZbno3Mx+fZxb3zxo0+c9iX+TzIuoruQStZa4rSrgI31ehupdz1SiV30avVbzz3dfDm1z+j9Auyl24ZckAEpIPCZ7NF4ewvMH7pGHpXfzjzx8cJ7AUo+Du0b7yUlQp+z5Jl+9Pa7T+u/DjUTkqypBM6PzwMoM9a38vZPEGXZ755nTzzzzxPf+te+kyqeYJynzzzypbzyG3ar/KPzzyz1uzXf777LIpPtdPP/AP5wKCuFRZ28a088888Zz8se8883EVLZJ+//AN+dPv7yyxwzx1ERBmXtuXuDfFafPP/EADsRAAIBAwIDBwEFBgUFAAAAAAACAQMREgQhECIxBRMgMkFCUhQjMDM0UUBTYWJjcgZxkqLwJEPBwtL/2gAIAQIBAT8ANEt9NSMFMFMVMVMFMFMFLKWUspipZSymKmKllLFlLFjAxUsWUspYsWLKVZJIgebdBMpI2Ekkvwjhc1U/9O3HQ/laRf8AbXU5iB5IkzuITJMsRI9WxDtJLtlY1H4DcdD+VpfsLOq9RtWija9T68jXi65ZE1KSQyz08UxcqxYmG6jVvQjdRJUiR9iWuolXmtJhdrllgnErv9g8cdD+Vpf89337Oq9SvrljoPqXYzaevC/CGIqtHQTUvBR1l+orq3TwzBKLKn0yy9xqKwT9k25NdfQlXfcwxWw1JsrwRVeNpO9vsPkVL4tx0P5Wl/z3ffVqyopX1LO2xhclFJgnjEERclLES0FHUMpRrq6+J5tuO91udwrreSNIkMYWW0Eo+RqIdHuJOaiIsjq07QVKbLSa/HQ/laX3taqtJLyV67OwqtJM2W0DyxzSQhCC0TuSUsXtwiRKrI2xQrK6+GYuMi4lCfTwVaCuJRVG2HS25Snm3NXC/TVeOh/K0vvHdVW8mp1LVn/lEW7HReDER+piUqVixJJMXYwYtbhp6zIwjKy3g6eCYutizKxErPGZsLN9xt2HTFrwV3vpavHQ/laXDOC/3FztCv8A9qCI9ZIjEtc9S1h8vQiGKT2XcyXjyzsWLXJRSEbI0VZlbu38Txi3eSWZWyjyiOrdODyO9toIjlHS5Xm1J446J7adIKr2Uh2hrnetLbiMuJmuNxazO3KnhdsVeR2Z3d5Fgvcs2IlLl3GVS1iZt0M7Es09RKvoO9ugjtDEb8He4j2Yiea5RfJL+GYvtJzUt/Mpgrc9Ny7x1EybeSYUl7Kd7kxqo5G40auKIPqLkVlM1kSq3oXuUnZPeRN18Gve1K3yIgnbYSCxMD5RlMlTVVasfZqJDy9K9fJWOph4EexmsjLfoWKT8tjRv6EeKKSq14MHnq50XYq5R1HZhJsVmuj8Up5Ig6W4RlJGwkkOUqrZ2Ytwk173qpBCcxPmuJHHWVoo0WmfcVpwRKXyLwqWg0tVmp7+Yhb9R4txjbgktA6XU6GjazkeN3xU75sh6uTDysbmd12HluNDyKVoaS1xIsTKwK7Swk2YSVZ0vxk1k3ruJFxvML5ePakq1WkseYrUVq43I09ONzSJZL/ImVUllbh36SjvHtE1Lw3NzGk1HfNVj4iTZiPKPHMaebVUE8MzdXsTWRcCu4781iJK0tOws22H6caf4Skv6STjBLN6CUWbeSFWBtii+6cZNTtqHK3aOn0y2bmqfBPMV+1tbVb7NadJf9TH13asNeNZ/sUTt7tKl+JSp1R/8Raydk0dP/cVdRqtRU7yq2P9hQ1WMYvzCsrLeDSzaleRpuWsNKwt5HoUlyZfcWg09NVXb3FuYibD+a5Qn7VBPBOxVrPL8vlPM1x35iN3PcWgmkzdBqeNJr8U/BQabsQjSJSWCxMnUo0GVkmS3BzW1n1Vd40zY0/33/z+v+ZqtFp6OivTTm7zz+7h7fDpXZasR8hKONJYJhYKs2pPJ9UkruPVy2jhp45LiR6kvcaTSReqgseCrXXJ6ck1Lq8x5ROVSRFtuRAkE1UXqV60NtHFfwUKSXYiODuvQvcuqLeSlXpVsLGorPRTOKVSr/YJ26zVcPoqn/sNQq6r8blp/uPl/c3/AIg11JVZLeU1FavUdqHt7zyGqotSfFvMdm6Ba6s9Ty+wr9jN1pPkNotQrWmlU/0C0Vnq4+hdaPeRzZG6sabUd/pVf3FzUw3IW4RF2tAsYoiwVaq01uRPKTNzs9L1bkca1XukuTLMzuYWRIJnmLcpEcoiNLGobu1tBZmYakyreeNJL0FISw72InlJ2YSLKV4vhBSyhbwUXzRJ4SaulnScprftFJ/qHatF01LPPlY0mEaelC/uyIGi5FK9buv6gjrCoieU7R0Per31Jeb3nZeoSn3tOo+KiQrpknMo9G8Mw1D9BaDSUkwZiP4GrqTj3c94uRSpYLbPIheaxoKVkz+XC3CvC908yRHKkExzE+Y/gQtyMUUdM2vJCLBV8j8dN+CpOI8cwpgRlBKXa8kO0LsUtS6LYnXOfXVfRBtXqZX8Ip6RaTs3mNVQnUU8GU0vZ9WjVWpDVGM3jqhm3wK3Zs1arMvLkabRtQTGeYilzFXsJalZnirirew02hpael3avUG06StsxdNbrzEaSYYnQpJ9HSgfs6k3UXQ0sfPUPoaUCVWVbQh38n1LZWwPqW+A9bNLEUl+ZjHzO69cyEIJjLqPCwoiXNQqxSbjSqqlBT6hZLs/QpZRsWJdS5mXYgscnzJxIdPmQ9L5jSkdRMcR5WCJL/zFr+8tSk/yLmRdp95OfzL/AKuZctiJv0Jdsk5ym7c8y5O5MVYbD2lm65k1mVsMx5WN3cTVIu3tIrw+8E6i3QSsTkxnYr5TTfizR3SwUaOZSpYKVajK+wj5KNLQ9h2eNlUmrVIZPd3h3qQuyEvyIxLMvXlJrtHQWvzbj1WjeCX5L5C17taSa65XO+/kIq2IrLC2PqF64k6hiK7ZbkamYJ1Teh9S5NVpKNXksUHaUcetdRXVET4i1fPA9ZYVHO9ZqRS86kI2eQ1SYyUibST1EZm2JfFBJd3K8rFFo8Gm2UdrKO+TXNPlmd0stcmGgnTtO8uPSs1oJwjpzDzyJEKVFbrLeGMusGLyWnoWkhW+JjPx8URMkS0GnXJWv5RottA2yoRVaCYaaW3lMG7q5RlYe8jpm27k6dMdhNM0tuLQQlFjoRSyXcmjj0K0PO88aULKpczWFK2pvtBRoqy3kaFRtiK/oK7TVHlpWwtJcdx6SZbIOl33cnSM67kaBT6Cf6Z9CNpGVdkGdo2lCan8lMhy7fIZ2htnO/f1JdZ9hnb2HeN8BM26IUdI8rdyNMTSX1Jo8lyhRyV4dDuVySDV0kVLwhppWV3EhSYRR93IwX3kOsnUiLESpVdcSrDYNPFJaFElZXceFl9i2K7ESzMKiwpZYEx9SJuxMKVYuaR7raS3gq6dH6lbs9vaPQqr7Dm9eGDGDSJpnbohS7PafMUtMlLpxZSYuliki4DovemphZSwiYLYuPLT0JWzXkdrMI85biSXXEli7SVo+xbikchdo2IRepKXUlWVtjvahSlp6iwRKx1KzLCiPktyk2LkTdfFKrPUnT0p9h9JS+BGkpEaelHsIVY6eGdyY5bFKLKV5sxO7EQSWP4jzd+H1DQtoJ1LkVm9Rat+hVm9BuKzakMzSxFRoUiqwsXO5ueUjULHUq6r0gbUOy2koPZrFzT1fT9iacVKz5MQSQSP0HhY8Uu0raeKRdCV4QRKwp3ywPVZp8NJ8lsI9muUnyUt9/M2K9W+3GeEySywtx2ya/BUaR4WNo8SvZbDvfjLt4O6iVJi2xTiG2J+zbYpVMjTuRPKXLlyylvuZK1U6k7FyBmsZX3HqTO3BepLWXbhTXJirFp4/wD/xABAEQABAwMCBAMDCAkCBwAAAAACAAEDBBESECETIjEyBSBCFDBBFSMzNFJTgrIGQENRYnJzkqJj0iRhcdHh8PL/2gAIAQMBAT8AVUZNOS4hLiEuIS4hLMlmSzJZksyWZLMlmSzJZksyWZLIlkSyJZEsiWRLIlkSyJZEsiWRK5KI7JpBZkx3TI5RFNJkifmT5LnTPZMZJjJ1zOoW5x1qvpy/U7+7B03/ADWX7kD3FGF9kwAO+SMxyQNckYDhsrKKEbXdMAMrMyiO81tav6cv1C6YDLompifqmpBXswJ6YU9MKenJuicCbr5m2UTEaCIG2c0IMPROjhlvdOxKmYnVhF7ujiF+iOXAbMmkN1E5OO6ijJpxfWr+nL34ARIKcWTCLa2JMycE4pwF0cA/BEBD1TP5GcmTSExXTVjYoKknO6dhkBNSB8VeKEbJpRll/hQmzinAC3TRAKEhfZvJVv8A8Qav72KEi3dAAiKumck2rq6unfQwFxUsJDuyZ03kDfZ1hidkFThs6et5e1GZEV3UXCYbuo3Eg2RNwTv6VJNyXZUh8xXTO2WtX9YL3N/JFFkSABEU7pmuhYdLp3TkrpnVtXC/VTRYldkzq/kcyyupmuIH5IalwGzqWfiiodtn7UcYsFwVMZe0Az61f1g/eAFyUUWAp3sKbdcrIXTurinLRtGWybSUBIUY4kmfyhi4bj/9Kxas1yRNjshYcLqmO2zoQxqgtrV/WC0xJMxJ9vOypovW6d/guqvZO6vdNiydxT7qybyXWad7qoC43bzRu8gHE6cgIeG/cjjMCs+jZKIBIbunLmssxZQ87getWF5ydRBckYB0QRAwXRsTksCyspIxDqaur6gFysm2G2jtbR3urrqmYn6rC6ZhZOKZrpwTqyZlZO11MGJJnV1dXTOTFdlkM2z8pLMw+bk7VYH6KTARsyAiWBESlgxBUWTPbU4xJDCIo4MuiCIx2RwA26M8N8UbhIN21um7lThcr6Mn30ugEjMBHuJUnhFPTFepPIlO9ONLUPFRxiQx/YWVyV0z6OiZMyZM6dlUj8dG8rTXCx8y4sTdAXM5XdRGyDHG6N2MrIAEempGIvume+pNdTgLjsnAhwdlyHFkHdqCp2sF9G2FPr4XTFUVQO3bFzman55eIglsd2Xi1OEFVePtljz0ZNoe6bZOmeyZVDXBH184Dck4ROGyaGw3UDESaIWe/kqGuoHHG2rtdOA2UsYvFssSiz1BQ/RKy9Gjrdfo4BjT1EjhyknG+6YByXjM2dZj9mNMxP0XClbqGkNBOdRFE4d3P+FVPglLIHzIcIv/AHuXiND7IUVz7vzJ06BStyGj7ldXV1dAAsQO/ahpzLN0DfBlBC2N3RjyWUQ4j5Ss5EyaKxXbV3sifl3ULCYmqqKx3TOmQIPogVJ4fUVO48o/bNQ+E0QD85xJf8BXsXhrjZ6P8yPwTw0+yWQUHgFG3dVSf4qJoqaAIYe1XJuibF14ww+1bfdoHxe6yeTJv9NBEchWjHJeH1dR9DJ6Y1k68WM3qrOf7Nem6uhUrWBG/Mrq6um36KKOAAB5e5FIQBsP7NU0PJd10FfBOVkxir769ZTbRyZuq4t9mV7NujLJBiAAqmpAwNm9OjOhVNDFTRAVUGUn3H+793/RUVdPPVWLt4fZ6fPfHdVc3GqDJXXhwZ1gDjkJZgf8uKbwSpA7jLGoKHgFmZ5Fp4z9aD+mjf4JmQKcrRGjfW6ipSYAlY0ENiBj7iUzZESbbFkZ2KyI7DdO5F0QQH8UI21H6waMsRuncjJAGKcLoQEd3TuUp2ZTUs8Anl6lRU0VTLwyqI4v5+3+5H+iwBFxPlOn/H2/3XQzRUpWhLiy/f8ApH+n/wB3VIZEJ37lTQU8MQSsGPzfeoJQlDIT5V4jXFAQDH3KDxcH2kDFDWQEN2ONZkmqYnlON5eYV1VXDwagx9KdeCuNp7d3IrjocgxgZH2qomKac5XVPAU52zxTjYrJlWnaKyd9Lqmh40uGaYcRiiQbymaGzrO8tkZ3NGVwUEVt30Z21M8ZSdHLl0UIW31qJLbKi3AiVQ48UALtJVMXClMG0Z1SHidlK+Hh2/3a8MmA6cAbuFVmb1Erl95oBWK64g8Lif6ealc3MzPuXh1fiQQyny+j/avE6Y5hE4wyIUYkBYHykqetOKWKJ+3hqLxYWL5wcVL4pBGI+oi51WVLzxxOJ8pfmRMLFZ1QQ2MpW4ZCP939v71UTcU7sOI/Y/MndVx3LFO6vpSZe0RiyfZzJMVokGwXTfvWe6BsyTzCOzI5ScVC+soZOSwMSQ9EZiI3de0/wInhLqojAAxjRxBIVzU1JFMWTpvDYn+8XybA3rkTUNMJXyU9UU4YkappvZpM2NVPiEM8RRuMY/jXDifoawBvWofFBABAubFVNRFUHl2onjZR+PMEQi8WRD61UV0tTLkQRqOcxlCTh8yOeIiuwYo6oDYbjzfzoK9gHFgyFFVGRXUPiUgYsPpR1h5dka9rNyRxiRXzXAF17K2OS9m/iUIcCUD7kdWRCYtGnkJwDk5V7W2OGCeYnGzLmZNMY7MgzM1I5ZKmcuKOuHPdYropGZxRATIKYnG7poP6ieEWTxfwpwJYEnA0wEnGf4AnCX7CADIdvSpQJivlGoozcu9ODt1/IrD9hXIStwVepbdvyLncrP3fhWFuq4TP94sBb0SIWD7v/P8A8Jxb4Rp4izB8EbYvZ+41HCDibP3KaIccAHtTMIFZ03s5iZ+pWDpw17LETZ9qizLZg/HipKQzLLPmQUgiNnTUwfFHRi/RRRDENkcJkaiiEOmvxTvZO90yIB6vpZurqzKzrFMzXsrMrIguhEX2TDz9qeEW3ZMHLZY6PGLp4bjZ00bMnAVwmXs4LgAmFmUsAlJk6ljB5wuP7NDEIvsjh4pk/qRQZOLuSigtlGmiEZbqRrinZnHFMLXv5X2TXcr+Q90LaF0TO62dPKLFbVm3v+pyNuJNoPUk4s69S2un6JtldEbMmO+hy4uhMSTaunAiJCNk76WXpTMN7p5Sy2QEb9VlYbp/EYm6CvlWP7K+VY/sr5Uj+wh8QjIrJpb7ssyWZfFcRMazTGSyJMRI5sVLX2KzL5RNNVk43Yk1beQAVVUFEQWXHfhSyMqKoOUjYlUkYjyKaWVgB/UoDnM75aFk/RcJ0ziGzonuOyYCJBHbdN7p0UbW2QOY7IDf4quARluyvqzqKpMFFWg/VMYEuXS6zFuqOcWUtaLdFLUmauroDQGTHdTmTnd1EZeykqByaW6mO5I+YbKABAd9XZSNc1cuiiYm0y5xby31snRnbZHxFAJXu6nu3RThmCdrFrdXV00pj0NNVysvbTXtpp6mV08pv1V1fVnTPzKU7kqRsgMXQtgNmREh2FCdyss+xm1wbK6wZW0tze4voUQkhAWTNZGOQogsVlUxWK/u7+dmIiVJFiF3RvZBujewqJuZRNcrv7+yZvLLHfdTRXFGFi/UGa6poPi6YrCi3JA1hT7qGLZM1ununb3hxCTKrhsSf38EWRLtGzJt0w7o25VFFfd1a23uv//EAD8QAAIBAgMGAgcGBAUFAQAAAAABAgMRBBASBSAhMUFREzAiMkBSYXGRFBVCUFOBI2JysTNDkqHBNGCC0fAG/9oACAEBAAE/AsqfUsWLFixYsWLFixYsWLFixYsWLFixYsWLFixYsWLFixYsWLFixYsWLFixYsWLFixYsW3X5NvYZ7tLr+fWLbqRbNefLdpcv+wnncuMWbLizuajUXL5Ilu0uv8A2E8llxLCWbyWb3kT3aXJ/kulnhsVFn2dn2dn2dngM8JmhlvYLZMuX3Ei2bHky4mMSNJpGskVN2lyf5EosjRbIYVshgiOCFg0LCxPs0T7LEeEiPBolgiWCJ4VkqLQ4vznc4lt3WKWbHlbNCyuN5XJPdpcn+QKDZTwzZTwRTwiI0IoUEjhvWNJoRKjFk8ImVMEVMM0ODXmWLDQ0WFEayiy5qJSyih8B5XNRqNXk0uT9uSuU6DZRwZTwyQopbljSW8lxTKmHiythCpQaGvNaLZMeV8kjQWsSWdty3kUuT9tjC5QwzZRwyRGKRc1GoXkXLly+dhwTKuGTK+EsTptewNFixYjHK45DyXEkskiw9+lyftkIXMNhLlOio5XHI5iiJb78qdNSMRhCpScfMkJjEWLFs2jQSWSZzHGxEY1k1u0uT9rjG7MJhOrI01HJsbErkYFt65cbNRqE8rFtxjVzE4W5VpuL8yw+QufkSRYsLLkasrFRcN2lyftSRgcHq9JkYKKykxsSIQLb7Gy5cuXFITysWysaRxuYvCX4onCz8xEuYvIsWzaGiLyq8lu0uT9qwGDdWV3yRCCirLKTshu4lcjDyGSlvIhv2JRMfhfxIa8vkSfEUuNvLYho5EWVeS3aXJ+04ag6tRRRQoqlBRWdRiRCFvIciUnvoUhuxrNZqW7UgpJoxmH8Ofw8yUeGo5+l5DzkLKSIlTkt2lyftCRs3DeHT1vmxDHKxZshG25qzsWLEo+RcjIeakzWas8XQVWDKkNLa8uXHgU3YlHhdEHfyNW71J8lu0uT37+w7Pw3i1fghKyy4Dd2QjlcQ8kakai+TJRLFnlEcdy+7xEzUzVc2lh7PWh+W+DuI09hS3mdRZ2JIe7S5PNs1FxyLi8+KuzAYfwqK7vOTIxORcjzHwNQnfK27YtlOOUeJ4fE0olBrdSEWJLKtT8Sm0VYaZNeW1c9JCdyUbl2i5cbFlbO4mSHu0+pfJvNiFlcbFdmnysBS8SvEWTYuLLWRJlzXZkql8orymhwIRzkroa3I5tZ7QpWnq7j8xp3uhSvlpLFi242XIjZLdQpGouJ7ikasncTsJ+VsilaLnnJlNDZJ8dxEY2yfDiV9quc3pXoL1V3+LJbUxj/wAxL5Iwk8bia9vHfBXu+hCGiKWpu3V8/KqRGnkhMWc1ljKeqk/gSXmyh25lnp4ms4sSyeTZcRcbH5VzUXyWSGrM4+TFXZhKfh0IrJ8jqLkSHuI1oxWKVChKfN9F8SpXqybnOpJt/E19kSjJczYdSKqVIt8ZJW/bcZF77sJIcHkpF8mrosTV00V4aZyXncSy3WPKw/YbkTqSRqsLjv4WGqtBfE5JLKT4Ecpj3ENmOlBYWer9vmT48CEbckSaEnGz5Gy8ZOvCUKj9KPXuhnIcxO5qFuMYspK41YuRd8rEkbQhaqP2ByEy+Vsrje+iw15KH0L8icCL39mQvXQ8pCymPexeIVer/JHl8RP0kIvfoNPTxNmzksZQt3s8pZR5lhbj3ZZRebNpx5Mfns0iGxMY/JQiXkXLjfAiy5p9Lf2QvTk8mSIZT3qurwp6fW0ux0y1pcSNWD6k68bWXE2XBzxVO3R3OSG8oituVJxpwlOXJK7Ftqpr40o6e3Uw+KpV43g/muqI1VKTjyebzjl1NpR/hj8uTtm8rmoZEb8pCH5KHyEJ8PI2SuEhEmMgMlu2MbWdGi2vWfBEuW7sKC11p9UkvqTZzGowg5zlZJcWT27HVaFF273Nn46GKXD1rO67Zqt/Gs3w5I2virqFKD4PjL/1lTq1KU1ODszDVJukqk5tuy47jyhkzaC/gMl5T5j6GpCmWGSea8tZJkvJ6CZA67+yvUllPL7RSp+tP9upPaMfwwb+fAeNqPpEWKqdVFixUesWiOIo++eLS9+P1PtNJfjMdUeJlBR9WPX4jjSh0uypC/FLc2RW8PFaek1YbuQiYvCfaYRg5tQveSXN/ArbExE05QhTh2he7+psCEoYnExkrNRs/rnj6OISquC1Raf7Gs1M1M2a/HlCnf0aau9xrKAstof4EiXlSaQ6i4ErXEvSJMuPzl5aQ+WSF039lepLLEVoU16X0KuNnLrZdkOrI1PuXYpy7irPqeNE8WB40SVVvlnpROFstlQ14tf0sVM5F8opQ2pN/qUU/wDS8qm1o0MRUpVqUlZ8GuqNp7WVeCp0XJR/ELlnsKVsVNd6eSHlYWe0P8BkvJZL0jw0X42Fa5N+RYtvx5b9s7CJM6ZQ57+yn6yMTj407qHF9+gsLiK71VG4p9/WZiYQp15QjySXnTjpZsSnbxar/pQpDLlzH1VQxWDq9PSTy2j9j8Nut4V1y1c/9iXGTsRWex3bHQ+KlktzrntN2oD8mXE5F+pETHz8p70OTHuWLbz55Kn6JDm9/Cxqt+HF2cv7GHwVKl6XrT95/wDBU5m0OGLl8l51SLa4c7mEoeDQhDtz+YriTyRtudNqlC/pp3/Yp7QxVKOmNbh9Sq/Feqcrv9j0F0HnseN8dD4Rbye4smbVl6CQ/IqtrqRlwL6mT5JC5ZsWaz1F9+HJkueaWT3WxZrm91K4mo8ufcwU7V4iMXtN069SmqSel2vcr1pVqmuSX7Czhg6sqUZpJ36dSULOzVmW3LMtnx6cyhUVSlCa68/mQWdSXh05z92Lf0KtWVSblJ8W+O/sXDaKPjPnPl8hb7NqT9O3k1HxFwgQJc8riGRGMjk35MOTJc8lk2X3bCRKVmKrIhK+Vn8Thkr2tlTemaZSlqpxfwNoq2Or/wBX/BQozrz0Rt34mIwboKDc07vllh6LrVFHp1+QrLgTpxmrSimiez4fhk18+JPB14/hv8h4erGEpum0keJ8DXPuihhcVXTamkkz7PWhUlD12u2ey6npypPrxRFWzn6UJJ8mh72Dws8VXUFy/E+yIwUVGMVwSss8bPETxc5wnNQpPTw5FJOFOCqVNUu76izZjZ6q0vIqt3ObJ9josnlEYsmIb3Lb0R5LJ7yR0HzI8zVoIvUt5GzamqlbsbU/66r/AOP9jZf/AFD/AKGbRcvHs+SjwywFNRoaus+OVx5VI66dSPeLWeFw7pUIR69fmKCMdg73q01x6rvlTm6c4zX4XcpzU4prk1fPGYOeI2jOEZ2vSUvh2MVg6uFko1NPHsydCrTjGU6bSlye5QputWhTTtqdjC4SlhaWmH7vvlrhq06lftfLaE8ROjdpKnq4fEwjeJpwpTg702nq7ISyZXnppyZN3b8iolpZE5skIeSyW48rCQ96JYtk3vIRP1co8ya4GHfTf2bV01bdzGVfExldrlr/ALGyIenVl/KkY3D+LT4etHl/6ywVSP2WF3bTwPRkrrlu1o6K1WPaTMIqf2iDqNKMfSf7FGvRrK9OakOJJcDH4TTerBcPxL/nLC7QVClocW2n6PyMPjKddcOD7GowuJjicfWqQXoxp6L/ABubQoxqYrAt9Z6X/clFSVmk12KuxsFPlFw/pf8A7I7Kg8dOhrlpjG7fXiUdk4Gn+DU/5uJtHCxo1KWMpxtpmtaX9xNNXWVSlSqK04Jko4il/htTXuyfH9mRr+LXowxD9CDtYslnI2lVtFRH5Fb1ToQ5kiJIWS3GxItmx7sRZMe9cU0Tnc0sjwZriU5aZHi0+541PueNT7njU+541PuePT7kcTCLumRlTXUwu0dn4ehGGqV+cuHUe2MF3l9CtWoTrSdJ8Hxsy694w+PpYdSU36L5WPvjCfz/AEPvfB/zfQ++MJ/P9D74wn8/0K1WjOq5U27S48csJiY4evGpLl1+TPv7B+7P6H37g2/VqfQe2MDLrL/SVJUPEfhSvHp8PgXRhsRGlWg78OvyHtTCWaevl2MPtDZuHhogppfIx208PVpLw9WuM1KLt2If/oadvToO/wAGff8AQ/Rl9SntenTxVer4TaqW68rC2/hOsKhU25gpwlB0qlmrPkUtsYqhFU4NSguWpEdvUNKvTle3EW3ML7tQrbWwlSrTvGbp2f7PuTxGzfC0R18Z3cmuNihtfDTXFShblfj/AGHtXB+9L/Sz72wvap9D71wneX+kxOIVao2r2H+5dF0XW7XypjOgxFmKJbKxoFEaLGg0FRWturJSLjzjE0IcEaRQQ4o/c/ctH4nDuzh3Lo4ZWNEuzNL7FjSzS+xol2NEux4czwZGh90aWaGaGeGzQzR8zQu0hU/5JCpx/wDmeHBcv+TWl+CJ4q92J4kPcQ3H9L/Y9H9I4folm/8AJND/AEl9TQ/cX1NL91fVFpdkLxOhao/dNMuugSl3iNvoxLtM9KXRH8aE+LRrnezsa4W6XNatzRNrRq4kXC3qn9LRql8BSd/ULx5mqP7dzXTfJDnp/AjxKdvVF4b48B2XNHI1IvuXJSIZNlZ7sR7yYmXOBqQ3E1I8R9zxJe8zWajgXRc49jS/h9S3xWVi0u5pmJP3kaF+oOK97/Y+TX0I3945/A0rj6Ro/mND7lpHE1y94u/iaZvsvmeG/eR4L7iuv8yxx9+R/wCbNa95muJ4kf8A5jqx91Hio8Y8f5kby5Qkz0vdf1FJ/EcjVot3Yq3N2J1briKdPV6MunYqV5yk1fgU9HUk31fCxWkm/jYhVlA8aUjxJiqc7o8bkKpHhcmnq9DiWm/xCWh8eJqvxZUmajUeIazUSllA1EpjfmIvk5FzgXXYv8MrmpGo1F2XLlz9jj2NQqrRrNSOncU/gLXc4tLjxL8xv0uZw7s9HscBNdka9X4i6R4rNZri/wAA2/hkjUajUKcujZeXViqP3mOS7suajU427shVbnZ8R6e1rlr3tyFZL4kbNin0NcpKzY436olS9EjGXbL9iVrC4nopcyUuxqZqZfdvmmOXsF92+ds7ly5fO4hlyPDjqG2axvsPPhmi+SY5XNRqP3Lov8DWazUakX+BcpSalwJVI6b24lOX8QlUlxRrux3IcFc1a+Yra2SaLqwmrcCM780icr5Qla9uYyFuJdIdvMfsVt9b6ZwyurjeS5+Td+dHmdCPrIl1E+OS9U5D53LkZEri5MlyWUevtC8q++vyebvxOuS9V53FzGLkx8lkvyNIsvyxPhmuW4s35Ft1ZW8pZPyrjy0mnesW3rGifusWGrS5U2fYMT+kz7uxf6R924v9MeAxS/yz7vxXuH2DFe4fd+K9w+7sX+mfd+L/AEz7Biv02fYcT+mxYDFP/LYtl4t/gPuvFe6fdWL90WysX7h9zYs+5sUS2TiYq46TTszwzQaDQaRp2y8MS4EY3Z4Y8owuSjZmngKCJR3Es3mtx+zpFy+ceYqUWhUo9jwYHhQ7HhQ7HhQ7Hgw7HhQ7Hgw7FDwovjFFH7NL8KFCHRIsjgWQ4o0/A0kYFkaUaF2NC7GldjSWRZFkcCpWjExGMvwROGp3NA6Y4lhRKi4CXEsSVikMlzyixviRLknuX3Le23ENFi2VGflQqSiUsa+pDEwkKa3LeTqSJ4iMStjexUrSluyWSRURTjxHEqFNFipz3ESfkRztvP2ZbtPgyD4eVcjUaKeLkinjURxEWeLE1o1IuajUa0eIu5LERXUnjEipjGSrSZfeaGiJPkQ5liqUxsmJbjLb63G9xEvZLCRYsMRbKlLzVJiqyQsTIWLkLGM+2s+2jxjHjJDxMh1ZM1PypCJ8iHPKqhOxJ71vIRcuX3n7GixcuNjELKLsyMvYr+wsS45VB8915vJ/kVy5fcTzpyF+R2GVJb6yeT/KVkmQl+STkTf5onnCRF/kUpEpD8hly/5WnkiEhfkEmTl5Tf5dcTIyIv29snIb8lv8xiyDF7dORJ+S37N//8QAKhAAAgEDAwMDBAMBAAAAAAAAAAERECExIEFRMGFxgZGhQFDB8LHR4fH/2gAIAQEAAT8hokqjEiRIkSJEiQIECBCmBAgQIECGkIEKIUQ+gAAEOiAQQQOh0gjRDqVEiCCCCCCCCCK4LTh98MaHQgaHUQgYhAiSSehNNunJ98ZA6wJRMQgMhtBlqSMPQE0Lpw++IGMjWQE9CBjjTHJGPpQotl9pECZsJ+w3sLhO2PhHwjXsNew34II6rVFhlS61kUNCKKMJoYT0MyXRKzTgvswga2NuNkGcCODinCO0PgOAcQVwO4E9jZhDYjqMcQxJVSFZigSlyRx6YUTEksJoQTcRmj7IEjaCBsOtYTiUbAbEQhKE6QQRGg+A2QmrGaESdjaCOnEiLgamJi3XQiMESSko1RQohA2J+zBoYqxilCtWNuLElyVCEaIIGho2AQuxwon7DUR1EiUgQWKSoxiKipNKCBstNrX8j6yBjKw1VhKpRsNDptIkRoY3ocSUQMbAJXYZKwxwR04MEjHMbEuBOyAiBhAwmOlI6XjAzo/sEgY6sMg2hUrEQONC4cR6WPQghkidIGkKnYzNIcOw10k9C3ESIlEMcIQ0gZEaBDAvEDF9eEh6kh7hAoUKkJLXCEaGxiIkgIJLMZkXEyBBa3QtG0hot02IJIt6CdDcTTS7oblQlNMCfXiQfBNhQSRBASEpAKpkk6O3qIuJiENKEqGFJDREaBzk0NdNkLtHt0IkRKkg1Uk/r4EiDxI6LECKWmEArE1bq1JuigebCdCMbENEtVYnTlEMrIn05XcIcR1zot1MWh3E/wBcAkI03EU7EEkrgkZkUkkkbo2MoG6QNENKj3LSoJCYThDVWgVmPda7A104gixESJzrKalY6NrH9762ObRbmgYiCZE3Mkk3Ggm2JOhoOma0XZAkTJLNlrExMSIEFuSMSUX2HNFfpJkluyXC4ET9ogamjFCUkUZgNPQBJJJNE9dIepvuCUJYGybtMFd6YSGEECZJdTmdqjKbm+qRYkuomSJkNcYhoZyFhLMTp+OYseo4XF+HnTJiJUGRUvqEk1CpL3qz0YGoSFTFuDHQc2WQkxJDpCGWSLjU4FTNIGI8EIZOCGmMlgTbS07G1EiZAiZiQhq9iGinfFh7hYY10kJDIwuUKQQVYsiQqoGExuoUW+loQQbpJECMzobEYRni6JD0IsnLFiBsRDENLBXqoLGxKC9JLciaoxCGWsDpISGS9iN0kQiSEQTkQxrJbisE6ifxBYhMgOApMVDaJVHMYsGel4VBhlAmhwNRUSyQaHPookbcQ2Xi9NJjYkkmiIQQRs4UXL3uZsvBz4Hfx0V0ujXkuLLkXb2yy3dkxuNkwKGQJEEFie6QlsRQ4aSaXppj1xE2NdRGQSZUJoDGY5GDahQ1paUwnGZoUEGYQT8RdCIR4GuLA9wriwPYYdXhoUauLmtj9mDP4C5ekcCZ5BnYJpLz0MkmRHAxMWiB4JVdDexmJCTWSAuE6QmlolTg8yD6m6Jab0oRJJAlKQhZR9ZOlsCaaJkA+AZYalQhHhBUirInqnEHpqTngTZKOtbDL5Xn2Ey+623cRsa1G7uCsT3VErB6owEFSRIlBoTIUlGsm+Tz5E67ZETjLYxZdGJNMHQgbA8SOQVlGxqRJ+DI2MIEVhIcbU4Ruw5bsdPO6M5uxphPyoRnicIe29vEyJGGYiIkEjExqp2JGmkDJlCbHmS0S9dxhIrTDX6XDpSuRaCGoYrGnqIEemDeh7l0DHvSNGFzYe8GPQJw0+BIKQneHZk1dRkQ+XxRtBIyBYGak0bRD3gJZ33Bja3y/IhlE07Mh030kYTIuM3vqxqgCxRhjsGGkbqRhJGo1TTIWwb+CVBZ0wJF7MCCRpZitHKIGJmZOXxTuW0tuEMRwcQQIuFCJZmEheRc0X7CalhGdo1/M0aLmJB+RMUlXck5w4Ej1acP++USiET5JG7jUiw6ZEULY7uk8KKnci0+xk5dDaBrDfTJiCGuBWGzffgbArJqSPnUexJhqT4X+Bjd8f8A0bb+7JX8gh/4q4xsXmUNy/EOOfhNiA4mbbkZTyhLtJPhYIardn5fKp1weLflcBJNW5b5a0jwadD2DQhidgtlo/gxsjuCXuLxQrjL4JN6dohjkrkWVAl2PorbkqBJaNdhAhlpFRUjo4uksnTFZKM5Hhkm9RDgheld4TLJhfocvcaxYbcsdwQwNsF3DuD8pwwzRtmVnI17XVIbGGEQpCpjldp5gGc0AvwMcembtPYx17jnw0SIcKRYkM2RFqfLTFIoyQ+1CVkaRQ2lNuiqkRTIgenMN6kHRVLdS9PHQyfawvYfblmaRP6BOHuj3jQul4l4Ju7/ALWKe4yElDmfh3BaLMuVD5vQoMg7g3bb4IFWN8L4pYTVIQbEgZ9DBsIULk3jeyJDyGqRaiQkJEIYw9SyrAii3BkSIo4iyRvMiwUaUWYpfaO4bqHwHhsIEm8v+NC6SGkmCEP3lJbuyNKxuyIGFS2/w6/IgOpVCTSh4ks45IR+sZOOQ0vCq55b17QJDUiiUY9dUR0CPfiNrJaDaJuzehLjVhoUgbgbDbpYVGBhuWITJoLLkSuhKwujga0JSIcX8Xj+ybTlmJkxQBuQOEowhD7e1UZyTXAMm3E1DJ1hnYJkQ3SUabQl0+4zq6WcbkTuTYgtNNh8JJ9kpu+uX/r3+xNzcgkQh0SLwQ6xobXJMLjuWJseSnCMBRBRBBBvq2FFQcqSSSKVBlnYnoRtvRr3ZebkcPcjiRrz2p2yYtTuIb5e6MlKjhs8EkNZ+AmsLNPIU/AWBEkkrIf+EncbTn/Q/skrF5ef9FQTltwrD4Bswj0Il+L/AODvPlNW9j0dFp7j66yqiUIsiKfqhIcE6e+OEh6LI7IeIos/mUkj39zZ+mKT2RnTcezJJ3HrxDLoRghgMuhiWFFGIJGijWezEEhBsaXpSpRDMaWMYmaUJkpBFIoSveHn92BL97KG1RCHvy6JfcPGyoqECf8AVhG1GBWE+bIsnNj04bZyu9Mv6EX4H3ygj7Mmm/8Ae8AySVyuWFVOlys6ZLCRDLRvuLW9d+WIuSP6OT7D4MIzonLhv8EoLBuCVfl/wblGsePSbdx60mbmY6Jb6J5odHYaSHWIPTv6TKIW0Y6Ky6II0Xe7FV9MyXiz8DHs16luSfjvd9EoUknm2BJN6bYauhrQtDhJeJJhWlfsXuO/JoyvKyhAkTec8XZ+aSVYstd3GCDSrv8AyuUIMTpebe6LnUeXWwZXhllK9h22y9D2Cvxe38AxmfM/8BJKV8z9MWGSmpT7DIUfuvyKO0f3TyMsQXwWYv8AkU+ElLl+aJjEIvIw9bwEEmkuaFvTIVHalKW0SoXGlhqIZaIZAoCBFhC4TcIfeES3g/amfrTP0qh/cjuvYXGU9hI9xLUzFvmyaXZNgRD7GNQicTYcVbJyw96Ywnwh2PYJnMbJYhvYsPWtTUb2B876BXxC5gWqLyHV76kNe4NO6GTZJnDfcjHC4OCs5ycybfcRrKwm71Dtt7aD/ghTvLYNqvYZ+PWNx3ne6OLMaxusiJ9Tcq9EQnibZtGa7SveJDrHWQXocoBoVvSLfs+o7ARYazcQ5g7x3DuIsWJRYZ2RDgTJexKKSuSTYfTA2YnoxCkxBsRtLEmKDQyqpioBobg2TIgW3YXJUnusb7hxsjwZ/wAIa8sT7HZYhd1TLiPCNX9pNw/FX/WD9oJ8ewQkp7lR5GySwrH3KEnWTX2Un/UkT/2Qo2n8TIviCX/Uog/95CFiNN5SIcPXBt0+BayfJeTRE3UQOZOB87jTimd+BPgRG1L+hIsz2kkMySXKG5wjZuUN3b9Y5+B4I9CgiJ9c2HBJqBO4fpMmNSP4Fxm6WjS+xce5EegnwA+yhFliEKBolSYUCBDS04Mak6dpcWUeyO0jib4pPqLyf2hbEjZ5kSfHyLd0ojH4ZH6Hkvk/ZIuT5Lux7isynpInsD/URy2drG9YT3MCPyNrP8hQWU/eTzGqzf3E/EvBmN+Rf2P+MPff2EwvyixPK9P9J59g5G/B5PVydgNRZ7n6JDWXd/JcHEXDCObGIu/yExi5BWzcbfJ3zNr/ACITml7iKpndsN0lkZMp4ghuXvHu8iyYwGxdvwQYmYjI1LfcyXJMWGF3RvKmeRR5yFunsai6FImEmKIqhVVttlg7KTHpROuhNdPEfAMcPYTfY8UdhEOCUWdDwI8HgSw3gFzTMY2h9wp8kTJOzYZsXiskNsN66IqL3JskEu8nqT/2Z4/J/ZBJY0dsDzBwOHHhQJIlyWPDDxYtJ9hPLGV3BDlkJyLuPwTI7/yQIZV4RKd3yR4+SCxkbX/AKiIbzcTsJYkgk2UKdybCsPsXlYu7QlaluODvpFk9/Jynkkux20koKC72TyI3uGrndO+S0yG6Q0W5HpWuRMdaG6JLs8i3clEO9HhRJJ2OxuuOm7YFF4Ghh7UHKb7ouJNgyNze7Z5Ok3wNuJxxkek8PuPa739B/wArM8BMLufwREkN3yRH3hqPBEkhgcZEUyCXJYD3G6ZYiL0ItflQWuXI81JJcHKdu44kLzfYQab7khsDsqOmkGuzcErFi9bppGPQSIo6pDrLXEZGmAw57DyLAUWJyR2xOSdUs7hNH03gJn5xFPGSwG5dx7FtJMpT3Ns8mF6TK2rKSaYhFJzRhHVRMDfROjqhqso6B9ROH9RNoEK71iIupd2KSJNyyI1xtADeqNMEdNakSqsmGhDfb6qPoYMB0y6MhiFiPGuBFrQhAw1HRQsNWNagNIkSGxGiKkEEEEEnsJ2PYrRVO3DSN2CYWopp74at2lkKAjtBZCZsjsobGiwzIuTjRJKiLgbQQMWocRIYqgL0pkrGksJ6CEIkkaj0qk0mi1odSwZd6QyQuNCmR2NUoEQkWlCKUSi4lwCXBD4kN7IaIQewmcI7SOwdgdkLhEOEdo7B2ENoJ3LQyeAQ2AlFQQMVCtBzKmiMyEi2FCIUTBlA4IlrNEkivS0KjZNX9IqYsUTq2yJuRrkaWbFrMLFcdwyaQQ0TREkj3Aid0bIau43p4uKgtiKBLF4dgkBKWKj0G+iihj0LZfTSJGyRosCROkhh2QtxiJZuyEzcXKdwjyQIncGsbEJaGN4ZvrGz1SETEsLVkMxaRc6kUbosiZOoYL6RUMR1SEQbfUkQ3N8YjuLbnLFyEjlHIH92boNm5PRQWwgUpFkmMlIEJDqaHkgehoGJ0ToQ1vo0oUK1pY19DJl9BJNEk9VoSFsR0Y6BKjCEqYuYdZ/RpiLEiddNP2KKGgzjcsRBAx6R/tCY1ImTr7G3RlFkQqN0SGMbH9qEySJkq+xRE1CQlRuioww6H9qEx6TfYIFSbIEhEjYtE39tX2IXBTmEiKSN0RNBuft6Yym31rYxDXRLQ6Kg3P0v/8QAKRABAQEAAgEEAQQDAQEBAQAAAQARITFBECBRYXEwgZGhQLHB0fBQ8f/aAAgBAQABPxD0FH4sfF9V9XtAPovovqvqvqvqvqsb17Kvq9L6r6rNn4s/Fn4vqvqsfF9Vn49LPx62Pix8WbFix8WPixY+LHxYsehj4sWLHxYsWLFn49KYnPEe/Qj4tRiXOrfQbxCI4uZBBlnLECeE8p+sn1iB7x/aP8v9/Y+ndn3c/wCSbW5oMj0O3psxZ1J8RxuKfQ4SYDLsnPohISlpJG2XHtf2T9Z9Or8+mce/8erz1+lnrnrnpn6jCYSX4kW52bCDDnHpOHcp49IIMJZZPc6d+og7hHiYtl5b3uCkgG+3+0er/wDhZ6BZZZZZ7c/TY5a23xZndpc99O0uHDKT3kuuMm+jgkO2TjAyU/qDMNQuGw/d9v8AYPV+fdntz/EyCG9F1ivMLyWb5324PnH87zS7hQXlSjxK9j+iDJsBzG3mT8xJxLDbQWY2+lAGTiQJNxsHMm6XSYE2WxmXQ4sB1ZmkcF0L+++3+we/P8cPTIa8E/wpQ5zxrnYtMG0maYB1nPrK8ZBwZu4bkYLK47R5zbzlXVLJP0942pDbdyM+NNts3Yl4ElFGwnuIHYV4tYbtnZDpj5MTE1ATB5nsjDuzj2/3D/Gf0VXgmDlNcswTRcMScYDgSDgLmwgbBsPiS9yni+MTDkwjpjMGYFLGHNIqc2fops+QgJC4mRkh6kNMoKFlmbfNJPjbFgy23bJkMfRociS7SJT6LPt/uH+M8ej7QnDC5o8zO5bExgEAHBPwkXUtC3mxnHpxcSGfS/KRiIsgN3tq8vE/iM4k9U96aSHUvjQAyBEy3KWzhm27I4TOKx4BIuwuUbcLuY30Bh5tgp6Pt/qP1M/SX0fUI0xYKYVzQMcADJAWDmxufMeQfiw30QkWNvYmctPNp5JL1b+IzET8CbY5EanlJJ+i6l1kaOI6tu4Q3Eb51NcEZNJAsx2QpxbNg2MYGJBKnScdbtj3P7R+gf4IREPhdzFYsGCMC+ZKvDC3mcm2AgwtfV+lOw+inqQ+YQ3zwiSJBiR0jWLKyZWEg4yT7h9MG58ky43A2zylnclzogeCGS2duSrzH6U0IYbKti02zUWhb3pgBfb/AHD/AAs9uR6aRAasLSHDxdEYeZk8yKzRSMDCMWxLno5s4d2/ufAwbeUwl4vhsPFot3GdEhPAnfTPg6uGRk/Q2GwjuQuHZJYY5Pag2FvQFMnDS4BE9IEpmxc4MX5r7f7h/kEEyAO2azYfLAnTGUJ1O9sAsQEBMMlkudSyG7Z6DMe4Wwh7mPMZNYybKEjcljxJnMhOrzEh7EU+ngxsJPRPZlnqRR6Zj80iNPemko7klyFiW4Zc+RscGJ6v7T7f7h/j5BbMTaMRKQGBa05nEyVWcQNiAhAGEehQvih2zIg7i5BtvM3Ny2dPomqRwUuDLtL2R3CHTS4iSA2gyni+2dhOpOJ69M9wa2o0VIAZvi1S/QUIHiDiebCvMTrJvBcCe/mfb/dPfl4gs9GJ/S0n448nOiC6YNc7ZxHPLjD13PkWIRCBxPxuGQjzN1tgEIWLiVos66zzx6FziOW6Y4e7IbBlsw4lXuNgs6DnNi8gxwSCYkZNDEn8aizNkk9j7Nx2yR47uRv7IKbviAae5ocTTzHBczi2XIxuxk42n5Ht/slln6ue8g1gAOVwITDnbRX9o9c8W07y9ExXz5iMI0/RIfMvNgbz6M7lsdQTMjd4i5SYcYcS3ebXdnHDxBHmI5IPEcyGonG93LzZ8l5iGwtAIgJolzXiOxyLc+wcSRPHtfZgjg51Mr7OX4JBw60fxEdeuY2vHFnrnp8sgNnlgxDWyeJeY6NjtZr4X2/3T1cFmIgkHmNx6vsz0z2BbQPq4wxgBgWPBJGmZc63i4BSUO+iXuEqaO7iOT3TlkDXiJws+EZ8BOzmIcy2dJ0zGTNWSYc8NxPRiBSOGMJScM4AsGc3DBZdgvCX7ZSjBOCL7+2TM+q+p6HzNMHBjOF3pz+Jm8K9nhtcaQ5PQJQuTdmSMOBdbmxwiNZHD2vPyHoZnK3u4u7M4hxrCPVSx1p+icoxtVwJ3IMXoaCzAmxpSz8OULHz9FqZDU3nggdRlwhWbqwAbkDOZNlHi37ILVEschMaQEczLQu8iDeG3FBmdeCxgy2c24QZyI8S/LLQ5AjGebp/KwsKFhNk8N4g9MumDuWRxzK8eSAv8/JDD0nTJ9vwwh3NB1s18TsjHSy4g8ydiSBGyft/dRbMOXMyLCD02cTMLMiXuIPMjxwiMdV9nfXplnoZWa/hEABwBgTbkbbvJwHrYmPiy4WypjOCSDMwlXzFQ2xAxynEsvwQg3HHc54ScTienN269E5OQvWCGlx6IBvLOJFEzIUYek9Qt1F8xCLhLxZBBHwoIxZOZJPmwyyD0cuvVpy73C+8TseySchOnFk7mgglAnTt3Hncp7WARs5e3qWHm4+7RvmTjuKLXtjxshO4J4j43IjAjeT1Y9c1gjyEJ/lYWuzzZDbIJDQ6jBY22ckNdiPUIhXtkHM8BKU9Acqtt+jFv1/CfjrYg+IHtg4hnmHWuc6BHb/KeVY8EJxGR5ES0sJEPBcmMbscMJ8fnTnKhdxR5gebJKGO/wA2YB3PLpE81yFms6bskknzMPo8+1vAmt3e53npOOAhvUQcywkdTO8wPMrzB3WyW+my133NtthSH16De18x3NbzMWzJ9hBeU1dNc95OMarkeFml/Jnws0Zd/wAxyA7s3rFrfMh3qHDmJWcDc4EzET7yHF+gawqZd5ETMBAg6M8HG5aB9efnj7zqDyGXzaoSQ5kkJORO0oHgt7u9wmQ6wnO3fhslKUJ1Q4TXKEzhbbiwDoyAQKQGEIzRRM4ZjjmzMkdcwc+h7PFqJnTOArHsgvBBdBICdM8IuY74nWyLgl26HtPTPcTkMQsRWVHJxCswcjOPl+0IKsss9RcY9i4l0Anw74iUDEVH4tiGlw2WAHS2xMcyZwEQEdOManQgu6qB+Z/B4FdFTzj3IUQdB0R88QNIXOkVvA8kiHDqX5gpxwQtji2Z5sgI2xtmGkq+YPllyJ0znI1sBMzZwpydTXJKnNiFjhxmBC78fmyc4O3dPom2Z6fix32Z7ADmFZscLrYmKdIFtxLL7eVDZK+wPQjkMeFkwtrGuHhnngeYAMB7MgjzbccHWfU8Tp+csHkzgnZ3ABEFq3nIJYW2OWpjbNHPwr19T+0y3z3LGhA3A1f/AG4B29uV+VN/YGMAbPgTjPOrMk4Y+TkHds1G58lri+YRHITljLtYHMDvogHNlol+YA4z3IaNw07bBiWEXCz5GYX0T0yT2eLPYuWvBb83S2x6bTuIFt1D6vteb+1nlY9xGSOid0+YcoT4ASF851K5HRZnokkcomkLh6qboF2WIXTHqfZ5Z55tELKN8rfiOe4bY94tA1oOWcHN44/xfcwZPkEEZCyztc/c+bkKiOGBspqav4eNmidj5liC7sa1jeJZJm2i8W6sx8A3+fBb8ksSE/LpL97jqI+IafSaDp3onfHOXJsmCrb6TGJ0OerbueT8wPH1e7JIMmSTMs9Wc0fMtC/G2i5sYZCyVkuMq2wLjwZ/SceTmdZ7dlegUfmb96zC6vZqX5LLLIImyWFgAXvqzKdH5jkaDZ6u24sYcxo0gjB6E9QBX5FU/KHU+M2OpQKodEtS6yO5+NnreY5Y0MOWZ6pnAeZ14HF/FGef5gsQfxCmbN2RczyVwTav2+Ldr4cu40fCSd5z+QmZvgciPYOkm0HguoVDgOp54EkMPEqlvPEVzCHCHAzE+EYGxOYJLJGyCyyTCd8PxOjo5bpnkTOO0jgK3PxPmDE2EZf0jw2bILQ0k9d9AiIxkiHJDn6g4F8uyBD2cSSPoEFzRz8K1dNsgSlnH9in8Wki79Mo/g1JCf8AwPKRdGfGL/OpGH2nA/1jcaO+Cv8AYShKASODx/qTLwjY9Rzr4IcADzzB/HRNGXZYvx8N5Q9p15PFg+CzHuz1xH7MszIxUJCDPCxPEsOOdf8AfEoJ3L4ombkEUemIAZBr1pncDkMQzviVe/46huH/ALlw8cYCTI8m7x8WcLbbEF+rJV8Rw3z1PcgV1V29fHu2K53i2VTkJ/qLmsHlsM3xcXdoW7T3LBs1unsfad/MWSD3LbfYQJZkL82TJ8XDXyZL2yD8jZJZBF3hRjyzIqW837s8E5zbQZOP5YAmS+Amdhh0pcVhGCzznENzSHCwxBiVSq6+jLDBg8Pw/k+YOlXp8n02Wj6LyGoTDEtzAlc3IZA+2KU9kUw6UVNcctpap9/GkcZOfT4z/n2UnFyLEAicZkiTO4cgwLovmf6JZL5ycycwen0kZmQqqTMOrtizesoszyzCB13aODIz6WLS5+JW9SXi0eLOHtG/lLBSXdfZiywD05iJoWfFxokbu5dL4G+iegc7BHZclZix8n4Qpgp9J37N9HxsSh5HZUVd9i0H6/RTe7rDzfT5IwRhP2kkrAWDuLyWEuO3X8vQoIImjuifJP4yZT3nFLMI5LwFj9OD8HVyXr8TT0+LY1lLrBrACFvEOSY+YRL2z1T6BJ7FBumWdCfbAwjnlZSbccg/MkfjOPzae9vLNGRZzENs+iPpEB6g3iW+07+Yjzn0IywEQlYcAIQRbbtG8kYkcnYzB1PCySCOLShnnJmXE2vyNHJvwcs2M50mr+Aycv5m1V/5dIxB3R69eJnwp/f6A6b6M1yANVXMPztoYWeEruPoZwE7swFs4yrapEIfEu/cztSdDwIKBJwoulLfkBX22D2fzv8Ady2H0Hr13fzXNEI+Ale4Sb8Q535hAY6582BcXe5lWZnuRAXNhnw5Y+cD/lw7oNbgPk6xtrdbdLSZzJtrgWL0Su2X3HfyEPQNQvqsEJNAA19DIXNhLonTDtMsgfBZth3d2SEPwQdS7z4Pl+D7uXPLxx/3ftO8lxXy7IdfJAOedzXN6CQYygg1ztVYxU98/wDR6lSHQzkQceHc0m4b537Q9yPWMiOI+gnQsNDzpOHvnf69BJEAuwOj/JG3Pww4/aS5U8loAhPcI+32zXH7yTXPmL/ngPB7wKcefV/+ogVZqZa6Dh25PHBueCRvEJ4cNzfB5ZObJiZ6cQDkTLzpvDL76/qJ51cPxbz8cFov1haFKq2Rau+hh6BBauEv6D4Ps9TeIEZMoZUKWzK6yHbxnLuYNTHlZvfmc4Z8Cx/6Wbzy/Lf7geOvgUP/ACBoAex0/l83E5fYswmhN9wGwZ2CJMPXgVmynDGGzpfQTaH8cef3eiILIBwAGATRR4cH2eR+ySNYoL9nxiVwV0D+jkbFExAecXWTk/lf/Lawvpv+21b0rRXB4AzBHx4PQm8cNzqII4iYj+PThi/sPn7xGj4ZzPEh3YjCM8AMKvxIqRxTTkc42QMInHqW+wc8Ie2Lh4gQ8CeEQScnQGzNP2bfrOmGtQPOHB5S8OQc27qMTeA2wZ4MEeZICSfTCZnoiA8B0WZvrZP3WCGS4yznMWQR25JhN1srvoJZYSe3IfxNuyL1ZEYe7NnLos/EFoICL1tgaInz3Z8z9r7ehOCSkdWPJ4R/FFP4NrZ/9Ko1/JvpnYW2+qlLiZ4jzEgPU4nLxznwsEKhe05/Ma8Ar4A5fos/5/v4tSGnXxr8sm6Tybq8XxP5jEEdE0bWn7oZ3+4vv2EQ6TniOZ6B0dOuuQpNx2h7ThCOb1GE9Ywo26lDb7A6QV25FPqgYM/b8B4Iyl6JDE8jh/lsOh2uM3R9xW3GfBOU8KhQCdsuiaKjudlITz0w/M6vam7zbxbvsekWJfE38zf6mW5u7PLxcDPqOiHBCzmYLRDQoyyI4+3pApZOQurgw9j6eds84kpZFa2fFo6wmEyDmO7KycBOmLjvQKfxhh8Miq13+Y+YI4k3WQEAXxy/SQVd14h9JKPHomvUOI507Zs/y4JM1ppweCB2rMgwaVm3y5GrZuA6t9hOHzXkvhhE3hBA7cV1jZfec6g9IcQamPdxib33K0dzTrYMPSeFIfCuGRu/OUlz88nXQxtldYX8cIgAesMDhz+IXgYTwrkSIk78PZqPydhhyrczA50/f0Q5CAg2OQj84QhucABuA1zzhkLgsyreEu7TtaLtic9M9csH7Z4rlvBzfGwF9WFctiS43KjCSANtnLvZAHUnPBcUWwF7cN/aGMSwGfsDeIfkjxxZ2kBGyPOCSuHfmdoHM+J8webkMb/aHg3v8heX/dH/APG3Nm/5WPm/dCQOqzpziXMcOl5fqOb+9lnfn2RA3+eDa8nLpYRfBoRw+XNzrzH9weH1iH7/AJUTov8AF8Ra+SzG0CTXqHXTeSdoqOdcyfc3ynBn82ww3yTkfPtcG5CJr5jGYTmJD38gPTYmm+OS1myARRgByr4lvJSsOJjjojaEqpvflbH+lEBQr8n1ud/9l8s54kz5krH9tduy3uisbtGu/FS3t8Dn66lm/vvH3jVuwCD4JLZ2hA7W3/3oBmCOo7h+NW5UfMt6uzpggmtNs4LBpDtLD+px57cciWi4eOWda35EuNUjHst+ROw3L4HRKabm2221YusZ6qjuoys6lkZkh2UOrBN0TJ1apOF5faFTDV8jKHmer1wFmHiCW3AsEIv+7JPDH827RG+CVm7PxkgD/l/7Djlb+Bvk6vAWjv8Ap/5Nrw/HO2l4/hhev5EIIPzxf/ZLTqk9KPF/HD8bmdXE1z+Uu1/iw5xw58v9Rzn88MN0n8MY7/1Zi88fCheXP5Jyd2PGZYtHHpxyVh9jTf4IYKE/H/QQvYfIdnd3rztJl+Cn/nhI0e71zW4Db8AH+Nh2i/Cf+z+R+cf7uJD3neU/hj3CD4lFAFPLWVVM8if6JiYDeuWe+X5mP7ypMhwAKP4y2aZvXh+wXGpnmb/EAxcg8z88RErOC1Rvxwx/GdPF+mW3EOriB+8/uZ45D+OLfNfRrH98bEcS4iud8GZPDgM0r+dYg1PLi3dzWzRDJi8j8c/M3qhxTB+z3HY2ucdQ+/FrYkFMPB9SZomm6o+YhZvhj/5DYWnk92cF644je/Du6IVeWExckGSMMhHixx9Pq0NUIlFsjxFOchU8L7WG9o+mvmX0JjCAcspYso6zlzkoMiTn9JcmgfDgjbnk7ByGbzy76/8ALHBwPwTpmH8Ijz1+C3kP+iN7iIhMetDv7Ctjp0+Bf2k7y98HJSb/AEQTk/YYmjmjzqlITeNVr+xYF98CCINU71T/ALn/AFuer9tj375olP11xbg86KOuPDhr+CF05uQQOm8b4PzZuo544b8ra6rlA15+4z3+0F05/upFcKeFJ/DJ/wBeyVD9Zyv2bcgGz0Cf9ycWL1zy3wBdww/sPMeAj5QD/PKUGg8cbf5Wwc+C6ED4T8yTef7D/UOTF2NV/PNgAL+zDZ3fw2eoW/Tk+uMK48H729xgwQcgOmHB39iyDeXRxdfEMw9oOF4/aXH6ATgGfy5hUqQ4NBnNm44dgF2j56kC8Ppj1m73GLsDn8vsYA9i06fBn/JVygIs4Dhwt0IvhwUPqyfSw1h+/wAs9cQtGuPj8Rxqgzs0g8OjDmuc+N6gjKcR6TzvXU26Xy4/PNyeOzr0fLAg/wDszPm2hc6HjIFyMjyWKY3tjfMDO58cbVbLgwHaTk2Z1fa0Embb6B6IHWPrYJcWRz5I89R1SnAJ8nL+YqIfugmityVoZ/5gwKHxts4u/vO92c6As4A3TXjMlOB/UUEtT8th9TrJUDN58xrqOXcJwOBuanj5ku08sOB99yHNv7tgBd7e+P8AcTcLCG4Z82ZPD886D4fHzlgGCzXfMCaDOlXQP8uKHf8Ac07bcBTnXx/doMBZrD+Xi4zCgIY5++QQUPCZn+JyPBymOJ+PBcgN6hxftncofVwA537AjfGrucBbA7HCm5zy2T/1hw6U63VJdP8A3aAU+BK6Q1dVaf8AttAvnJf54kIbHtAv5nBxfvBG9D9rAXg6TkRMs3j4BZF2hPiN4XPj4l/mNZ5+2S5nkI8bhIzxt3pZhBs8YDMsgR4K1fgS7OBc0xTNz4zLMondEJl3th0MHZ2bC1Ne8ecnkV5hqvHPTzIMHnODnj8xTU8734lzhxHHZzyd8XRDwDzz5z6jxsgzNS7y2y+gsGSMEY7jzBkWsOD3H0yCCWI49y5ksMDlbw5KfL6A6rfaI+0x6H+bY6/lljeQX7VjGINhLz1up4kKuZDHuVqI648ScyNB48PzlpHoN+A+rngPCY9RYghEyu/MJHoXQ63+ICHccA4PjLVTut8AfERT4M/h8wqjnTTPjIQi3I81uYrv88SUOT5CyUDmuneFj3eTt70gzAr2Px+0QimdnQ/a0I7yQM/ZllyHOnRcPg2UnAHTkMTjJUNHPGc3T1fQH/qN+A/l2PCw+sIlFzcB13cbPyndCW/+FuoIuMMTzZbFDyomufE5b3efSLZ+C08PRy/xPjLnP5DrLiCeSeQT+/zMU1yG5nnZWzOW8jX4LgsHTgOOU+IK9nBeAnjJr64J8SOZ0Cji60fmBwOZucn3ks7Vc8vH7emyAjBPB5tmPLM6zwaab/UEppd7/wAmvh9Bn0H1WWGRYAA+faOTEjMX1DabDInbh3LPTLn5tbWCUfi4NrN9F9F6uYO8mbvR5hG1wPTjftuzg7/awHgch5F8zvDM/GQjPp2YC97twdfGWtXe/XbfuHuydG401j3CON7nlX763mxvHrvpr7chNThE/qFKnTw987c14/LqBm8GOzD/AAf8lFW9H7SrPLsoldkfx1JETBvx2ck6Pbf54+7qV6es8fErsOSGZNCBE58n4mhMRqf7z0zxxyHL45tLlmab5nv2PqHpskLA4mfeSAnsy9X6AZbltiVWx9c2yJqrLmVz2jebXM32MCT3/jCiJb7nN1PEkZnHY0dHXN0l08pz6BwPCFPnePToHwyAA9+LkBwdP6tlIB8h/uXk8P8Av0He/FtmfE7YyZ7GWeq7R6L7s9Agzs+h6kCUYA7lplrtwxYhMl9Dr0z9LGyxs9uWWrP1Ms9Mt7S9S1d9NZna6/g9nM7DlhfwD0Gz0Ekhr1F2w/E5683JZTqHwemyT2nTBzA8twPELwS+hEj02YmEq7kYSD4nEwNv3atWr8b8PXH8Q7hsziv3Xdb9oXMjr57h2TsFaOQxViA4mEFpI1hx2+kjOeMtT0yVCGa2nZe5FlgDjC6uvOwM7je4yzhgJ5+yGpOS252kki1zaR8W9t2twRBYlylJtjw+gO5eVnJAs7n03gIiMif0AhHTKsr2H1Fn0IyCRBnoy4cyWlsDskz0LkIHKSyQKdY+JfQnPMzqOLcOMTOMZEbzpPxvhhFmL8BBOso49IxrTfAnnJstaxMKV8ZzjPijHEfDQXjfTsOoMdybNBEvBTRGvLDHi08J2wl3qNRSzQeIwA9yCJ49GHRznYFueLJ8SxPTMqzSJsudPoYt/Mth23zODcsbZbLLn0HtLfTJPXZfQLPYOYySTmUcSEudGXhsEAjBJZJ6jCOmNts2WyHWLMbD0ySXsviCDDiGMyQEuthOZGTz7jNRbBWGrb08Zl1ZfRNGPVCCcicHLTpP5HmyTCcQzEdb67Bwk52yuN5udJifTYYmbOdSX0Hi7S+gK2Htj0G2WPYe7W5snzDe4c5kto9S/cQM2yyyT2jIdLNCvE8FxooUokwyuhCeFx8C+6fOyJyYd0RzsHArZHm3W2d1X0WXWWYBPXF2Ld/unQOWQ2RT0nvnphk0c6mZbrJj6PqTnD3AkkIWXfUG+7ExbZZ6PoQ22xFzRviyOoSeODPXLSFhuITDpvvyz1EdMiYrpqz+dja7h7fKjn3L3Izp2nW9ru8Up7ZbZZfZlunFmC2couLgIlMRNk87mbDG39ZqzLmrib7B6JXzAHct8x7CRtge09H0PYntIl5gBaI2csePNylhqeh6MGRHz+glklkHrrC+bfza+W18zF977Mt7It3bjkGE+csWWq2cdWjBh6A1sy8p7oY5n9DfQfRde09F9Ntttt9cg9HI85jn5Jb5l9Pvh0jhLFBYgZ6Z6ZZZ/g/j2ZBB6Zz6ujGAO5CIMA+miNEYNncmE9enPN4iT9MbZ9pPvPXPZsvtyY0LzMaMACw6b+hlln+HlllnoAcxAgz65tw8EJy5oNfSXE+bMnr/AIZPuPatv6BZNvkVANiDmP089css9mWWWWWe9cNjLzO3mS3N1dUdekuxtwu2ye7a2Xuz9Q9M9H1PXbZf0jdskhs0bqNtQj/PFObVQbRnRZPMMCcHpcmOpbgeZF9F9uQS/qFs+0tt94e8ZLrsk5tw5h0/ziDzdoMifYCcMuvpcEZs69NyX2EW+1/yD0fUn1YdtxNxbnu222P8TIjEJhg1iyeptlxDzKfGVc+j+oT7v//Z)"
      ],
      "metadata": {
        "id": "JhbTtQk1LHji"
      }
    },
    {
      "cell_type": "markdown",
      "source": [
        "# HAKUNA MATATA"
      ],
      "metadata": {
        "id": "6mI-qyQJL5UD"
      }
    },
    {
      "cell_type": "code",
      "source": [
        "%%writefile simba.py\n",
        "def saudacao(nome):\n",
        "  return f\"Olá {nome}, eu sou o Simba!\""
      ],
      "metadata": {
        "colab": {
          "base_uri": "https://localhost:8080/"
        },
        "id": "AgiIRC_sLUCx",
        "outputId": "ab2c55c4-24e3-49c6-c3bf-7f04817a37d9"
      },
      "execution_count": 38,
      "outputs": [
        {
          "output_type": "stream",
          "name": "stdout",
          "text": [
            "Writing simba.py\n"
          ]
        }
      ]
    },
    {
      "cell_type": "code",
      "source": [
        "import simba\n",
        "\n",
        "print(simba.saudacao(\"Nicoli\"))"
      ],
      "metadata": {
        "colab": {
          "base_uri": "https://localhost:8080/"
        },
        "id": "kIjPekiYOLPY",
        "outputId": "19a32b9e-ff7e-4f27-e06f-7e81e6736c51"
      },
      "execution_count": 40,
      "outputs": [
        {
          "output_type": "stream",
          "name": "stdout",
          "text": [
            "Olá Nicoli, eu sou o Simba!\n"
          ]
        }
      ]
    }
  ]
}